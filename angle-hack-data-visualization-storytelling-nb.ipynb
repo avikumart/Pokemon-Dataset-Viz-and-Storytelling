{
 "cells": [
  {
   "cell_type": "code",
   "execution_count": 1,
   "id": "5ac3760d",
   "metadata": {
    "_cell_guid": "b1076dfc-b9ad-4769-8c92-a6c4dae69d19",
    "_uuid": "8f2839f25d086af736a60e9eeb907d3b93b6e0e5",
    "execution": {
     "iopub.execute_input": "2023-07-09T06:59:23.511977Z",
     "iopub.status.busy": "2023-07-09T06:59:23.511595Z",
     "iopub.status.idle": "2023-07-09T06:59:25.172588Z",
     "shell.execute_reply": "2023-07-09T06:59:25.171230Z"
    },
    "papermill": {
     "duration": 1.670294,
     "end_time": "2023-07-09T06:59:25.175895",
     "exception": false,
     "start_time": "2023-07-09T06:59:23.505601",
     "status": "completed"
    },
    "tags": []
   },
   "outputs": [],
   "source": [
    "# This Python 3 environment comes with many helpful analytics libraries installed\n",
    "# It is defined by the kaggle/python Docker image: https://github.com/kaggle/docker-python\n",
    "# For example, here's several helpful packages to load\n",
    "\n",
    "import numpy as np # linear algebra\n",
    "import pandas as pd # data processing, CSV file I/O (e.g. pd.read_csv)\n",
    "import matplotlib.pyplot as plt # import matplotlib pyplot class\n",
    "import seaborn as sns # seaborn lib\n",
    "\n",
    "# You can write up to 20GB to the current directory (/kaggle/working/) that gets preserved as output when you create a version using \"Save & Run All\" "
   ]
  },
  {
   "cell_type": "markdown",
   "id": "0ad89de1",
   "metadata": {
    "papermill": {
     "duration": 0.003395,
     "end_time": "2023-07-09T06:59:25.183398",
     "exception": false,
     "start_time": "2023-07-09T06:59:25.180003",
     "status": "completed"
    },
    "tags": []
   },
   "source": [
    "- [Challenge Link](https://tribegroup.notion.site/AngelHack-Monthly-Code-Challenge-e1b6ea075c1445b8b7ce3ca16d207b5e)"
   ]
  },
  {
   "cell_type": "code",
   "execution_count": 2,
   "id": "26887079",
   "metadata": {
    "execution": {
     "iopub.execute_input": "2023-07-09T06:59:25.192514Z",
     "iopub.status.busy": "2023-07-09T06:59:25.192078Z",
     "iopub.status.idle": "2023-07-09T06:59:25.263660Z",
     "shell.execute_reply": "2023-07-09T06:59:25.262305Z"
    },
    "papermill": {
     "duration": 0.079203,
     "end_time": "2023-07-09T06:59:25.266272",
     "exception": false,
     "start_time": "2023-07-09T06:59:25.187069",
     "status": "completed"
    },
    "tags": []
   },
   "outputs": [
    {
     "data": {
      "text/html": [
       "<div>\n",
       "<style scoped>\n",
       "    .dataframe tbody tr th:only-of-type {\n",
       "        vertical-align: middle;\n",
       "    }\n",
       "\n",
       "    .dataframe tbody tr th {\n",
       "        vertical-align: top;\n",
       "    }\n",
       "\n",
       "    .dataframe thead th {\n",
       "        text-align: right;\n",
       "    }\n",
       "</style>\n",
       "<table border=\"1\" class=\"dataframe\">\n",
       "  <thead>\n",
       "    <tr style=\"text-align: right;\">\n",
       "      <th></th>\n",
       "      <th>image_url</th>\n",
       "      <th>Id</th>\n",
       "      <th>Names</th>\n",
       "      <th>Type1</th>\n",
       "      <th>Type2</th>\n",
       "      <th>Total</th>\n",
       "      <th>HP</th>\n",
       "      <th>Attack</th>\n",
       "      <th>Defense</th>\n",
       "      <th>Sp. Atk</th>\n",
       "      <th>Sp. Def</th>\n",
       "      <th>Speed</th>\n",
       "    </tr>\n",
       "  </thead>\n",
       "  <tbody>\n",
       "    <tr>\n",
       "      <th>0</th>\n",
       "      <td>https://img.pokemondb.net/sprites/sword-shield...</td>\n",
       "      <td>1</td>\n",
       "      <td>Bulbasaur</td>\n",
       "      <td>Grass</td>\n",
       "      <td>Poison</td>\n",
       "      <td>318</td>\n",
       "      <td>45</td>\n",
       "      <td>49</td>\n",
       "      <td>49</td>\n",
       "      <td>65</td>\n",
       "      <td>65</td>\n",
       "      <td>45</td>\n",
       "    </tr>\n",
       "    <tr>\n",
       "      <th>1</th>\n",
       "      <td>https://img.pokemondb.net/sprites/sword-shield...</td>\n",
       "      <td>2</td>\n",
       "      <td>Ivysaur</td>\n",
       "      <td>Grass</td>\n",
       "      <td>Poison</td>\n",
       "      <td>405</td>\n",
       "      <td>60</td>\n",
       "      <td>62</td>\n",
       "      <td>63</td>\n",
       "      <td>80</td>\n",
       "      <td>80</td>\n",
       "      <td>60</td>\n",
       "    </tr>\n",
       "    <tr>\n",
       "      <th>2</th>\n",
       "      <td>https://img.pokemondb.net/sprites/sword-shield...</td>\n",
       "      <td>3</td>\n",
       "      <td>Venusaur</td>\n",
       "      <td>Grass</td>\n",
       "      <td>Poison</td>\n",
       "      <td>525</td>\n",
       "      <td>80</td>\n",
       "      <td>82</td>\n",
       "      <td>83</td>\n",
       "      <td>100</td>\n",
       "      <td>100</td>\n",
       "      <td>80</td>\n",
       "    </tr>\n",
       "    <tr>\n",
       "      <th>3</th>\n",
       "      <td>https://img.pokemondb.net/sprites/sword-shield...</td>\n",
       "      <td>3</td>\n",
       "      <td>Venusaur Mega Venusaur</td>\n",
       "      <td>Grass</td>\n",
       "      <td>Poison</td>\n",
       "      <td>625</td>\n",
       "      <td>80</td>\n",
       "      <td>100</td>\n",
       "      <td>123</td>\n",
       "      <td>122</td>\n",
       "      <td>120</td>\n",
       "      <td>80</td>\n",
       "    </tr>\n",
       "    <tr>\n",
       "      <th>4</th>\n",
       "      <td>https://img.pokemondb.net/sprites/sword-shield...</td>\n",
       "      <td>4</td>\n",
       "      <td>Charmander</td>\n",
       "      <td>Fire</td>\n",
       "      <td>NaN</td>\n",
       "      <td>309</td>\n",
       "      <td>39</td>\n",
       "      <td>52</td>\n",
       "      <td>43</td>\n",
       "      <td>60</td>\n",
       "      <td>50</td>\n",
       "      <td>65</td>\n",
       "    </tr>\n",
       "  </tbody>\n",
       "</table>\n",
       "</div>"
      ],
      "text/plain": [
       "                                           image_url  Id  \\\n",
       "0  https://img.pokemondb.net/sprites/sword-shield...   1   \n",
       "1  https://img.pokemondb.net/sprites/sword-shield...   2   \n",
       "2  https://img.pokemondb.net/sprites/sword-shield...   3   \n",
       "3  https://img.pokemondb.net/sprites/sword-shield...   3   \n",
       "4  https://img.pokemondb.net/sprites/sword-shield...   4   \n",
       "\n",
       "                    Names  Type1   Type2  Total  HP  Attack  Defense  Sp. Atk  \\\n",
       "0               Bulbasaur  Grass  Poison    318  45      49       49       65   \n",
       "1                 Ivysaur  Grass  Poison    405  60      62       63       80   \n",
       "2                Venusaur  Grass  Poison    525  80      82       83      100   \n",
       "3  Venusaur Mega Venusaur  Grass  Poison    625  80     100      123      122   \n",
       "4              Charmander   Fire     NaN    309  39      52       43       60   \n",
       "\n",
       "   Sp. Def  Speed  \n",
       "0       65     45  \n",
       "1       80     60  \n",
       "2      100     80  \n",
       "3      120     80  \n",
       "4       50     65  "
      ]
     },
     "execution_count": 2,
     "metadata": {},
     "output_type": "execute_result"
    }
   ],
   "source": [
    "df = pd.read_csv(\"/kaggle/input/pokemon-dataset/pokemon.csv\", index_col=0)\n",
    "df.head()"
   ]
  },
  {
   "cell_type": "code",
   "execution_count": 3,
   "id": "48d6abc1",
   "metadata": {
    "execution": {
     "iopub.execute_input": "2023-07-09T06:59:25.276514Z",
     "iopub.status.busy": "2023-07-09T06:59:25.276126Z",
     "iopub.status.idle": "2023-07-09T06:59:25.299927Z",
     "shell.execute_reply": "2023-07-09T06:59:25.298810Z"
    },
    "papermill": {
     "duration": 0.032665,
     "end_time": "2023-07-09T06:59:25.303218",
     "exception": false,
     "start_time": "2023-07-09T06:59:25.270553",
     "status": "completed"
    },
    "tags": []
   },
   "outputs": [
    {
     "name": "stdout",
     "output_type": "stream",
     "text": [
      "<class 'pandas.core.frame.DataFrame'>\n",
      "Int64Index: 1194 entries, 0 to 1193\n",
      "Data columns (total 12 columns):\n",
      " #   Column     Non-Null Count  Dtype \n",
      "---  ------     --------------  ----- \n",
      " 0   image_url  1194 non-null   object\n",
      " 1   Id         1194 non-null   int64 \n",
      " 2   Names      1194 non-null   object\n",
      " 3   Type1      1194 non-null   object\n",
      " 4   Type2      652 non-null    object\n",
      " 5   Total      1194 non-null   int64 \n",
      " 6   HP         1194 non-null   int64 \n",
      " 7   Attack     1194 non-null   int64 \n",
      " 8   Defense    1194 non-null   int64 \n",
      " 9   Sp. Atk    1194 non-null   int64 \n",
      " 10  Sp. Def    1194 non-null   int64 \n",
      " 11  Speed      1194 non-null   int64 \n",
      "dtypes: int64(8), object(4)\n",
      "memory usage: 121.3+ KB\n"
     ]
    }
   ],
   "source": [
    "df.info()"
   ]
  },
  {
   "cell_type": "code",
   "execution_count": 4,
   "id": "a94022f3",
   "metadata": {
    "execution": {
     "iopub.execute_input": "2023-07-09T06:59:25.313439Z",
     "iopub.status.busy": "2023-07-09T06:59:25.312994Z",
     "iopub.status.idle": "2023-07-09T06:59:25.357819Z",
     "shell.execute_reply": "2023-07-09T06:59:25.356630Z"
    },
    "papermill": {
     "duration": 0.053059,
     "end_time": "2023-07-09T06:59:25.360542",
     "exception": false,
     "start_time": "2023-07-09T06:59:25.307483",
     "status": "completed"
    },
    "tags": []
   },
   "outputs": [
    {
     "data": {
      "text/html": [
       "<div>\n",
       "<style scoped>\n",
       "    .dataframe tbody tr th:only-of-type {\n",
       "        vertical-align: middle;\n",
       "    }\n",
       "\n",
       "    .dataframe tbody tr th {\n",
       "        vertical-align: top;\n",
       "    }\n",
       "\n",
       "    .dataframe thead th {\n",
       "        text-align: right;\n",
       "    }\n",
       "</style>\n",
       "<table border=\"1\" class=\"dataframe\">\n",
       "  <thead>\n",
       "    <tr style=\"text-align: right;\">\n",
       "      <th></th>\n",
       "      <th>Id</th>\n",
       "      <th>Total</th>\n",
       "      <th>HP</th>\n",
       "      <th>Attack</th>\n",
       "      <th>Defense</th>\n",
       "      <th>Sp. Atk</th>\n",
       "      <th>Sp. Def</th>\n",
       "      <th>Speed</th>\n",
       "    </tr>\n",
       "  </thead>\n",
       "  <tbody>\n",
       "    <tr>\n",
       "      <th>count</th>\n",
       "      <td>1194.000000</td>\n",
       "      <td>1194.000000</td>\n",
       "      <td>1194.000000</td>\n",
       "      <td>1194.000000</td>\n",
       "      <td>1194.000000</td>\n",
       "      <td>1194.000000</td>\n",
       "      <td>1194.000000</td>\n",
       "      <td>1194.000000</td>\n",
       "    </tr>\n",
       "    <tr>\n",
       "      <th>mean</th>\n",
       "      <td>492.746231</td>\n",
       "      <td>441.206868</td>\n",
       "      <td>70.883585</td>\n",
       "      <td>80.948911</td>\n",
       "      <td>74.587102</td>\n",
       "      <td>72.881072</td>\n",
       "      <td>72.123953</td>\n",
       "      <td>69.782245</td>\n",
       "    </tr>\n",
       "    <tr>\n",
       "      <th>std</th>\n",
       "      <td>293.719541</td>\n",
       "      <td>121.015326</td>\n",
       "      <td>26.861740</td>\n",
       "      <td>32.126164</td>\n",
       "      <td>30.678626</td>\n",
       "      <td>32.702411</td>\n",
       "      <td>27.628412</td>\n",
       "      <td>30.200828</td>\n",
       "    </tr>\n",
       "    <tr>\n",
       "      <th>min</th>\n",
       "      <td>1.000000</td>\n",
       "      <td>175.000000</td>\n",
       "      <td>1.000000</td>\n",
       "      <td>5.000000</td>\n",
       "      <td>5.000000</td>\n",
       "      <td>10.000000</td>\n",
       "      <td>20.000000</td>\n",
       "      <td>5.000000</td>\n",
       "    </tr>\n",
       "    <tr>\n",
       "      <th>25%</th>\n",
       "      <td>235.250000</td>\n",
       "      <td>330.000000</td>\n",
       "      <td>52.000000</td>\n",
       "      <td>56.000000</td>\n",
       "      <td>51.250000</td>\n",
       "      <td>50.000000</td>\n",
       "      <td>50.000000</td>\n",
       "      <td>45.000000</td>\n",
       "    </tr>\n",
       "    <tr>\n",
       "      <th>50%</th>\n",
       "      <td>486.500000</td>\n",
       "      <td>460.500000</td>\n",
       "      <td>70.000000</td>\n",
       "      <td>80.000000</td>\n",
       "      <td>70.000000</td>\n",
       "      <td>65.000000</td>\n",
       "      <td>70.000000</td>\n",
       "      <td>67.500000</td>\n",
       "    </tr>\n",
       "    <tr>\n",
       "      <th>75%</th>\n",
       "      <td>741.750000</td>\n",
       "      <td>520.000000</td>\n",
       "      <td>85.000000</td>\n",
       "      <td>100.000000</td>\n",
       "      <td>90.000000</td>\n",
       "      <td>95.000000</td>\n",
       "      <td>90.000000</td>\n",
       "      <td>90.750000</td>\n",
       "    </tr>\n",
       "    <tr>\n",
       "      <th>max</th>\n",
       "      <td>1010.000000</td>\n",
       "      <td>1125.000000</td>\n",
       "      <td>255.000000</td>\n",
       "      <td>190.000000</td>\n",
       "      <td>250.000000</td>\n",
       "      <td>194.000000</td>\n",
       "      <td>250.000000</td>\n",
       "      <td>200.000000</td>\n",
       "    </tr>\n",
       "  </tbody>\n",
       "</table>\n",
       "</div>"
      ],
      "text/plain": [
       "                Id        Total           HP       Attack      Defense  \\\n",
       "count  1194.000000  1194.000000  1194.000000  1194.000000  1194.000000   \n",
       "mean    492.746231   441.206868    70.883585    80.948911    74.587102   \n",
       "std     293.719541   121.015326    26.861740    32.126164    30.678626   \n",
       "min       1.000000   175.000000     1.000000     5.000000     5.000000   \n",
       "25%     235.250000   330.000000    52.000000    56.000000    51.250000   \n",
       "50%     486.500000   460.500000    70.000000    80.000000    70.000000   \n",
       "75%     741.750000   520.000000    85.000000   100.000000    90.000000   \n",
       "max    1010.000000  1125.000000   255.000000   190.000000   250.000000   \n",
       "\n",
       "           Sp. Atk      Sp. Def        Speed  \n",
       "count  1194.000000  1194.000000  1194.000000  \n",
       "mean     72.881072    72.123953    69.782245  \n",
       "std      32.702411    27.628412    30.200828  \n",
       "min      10.000000    20.000000     5.000000  \n",
       "25%      50.000000    50.000000    45.000000  \n",
       "50%      65.000000    70.000000    67.500000  \n",
       "75%      95.000000    90.000000    90.750000  \n",
       "max     194.000000   250.000000   200.000000  "
      ]
     },
     "execution_count": 4,
     "metadata": {},
     "output_type": "execute_result"
    }
   ],
   "source": [
    "df.describe()"
   ]
  },
  {
   "cell_type": "code",
   "execution_count": 5,
   "id": "23d33826",
   "metadata": {
    "execution": {
     "iopub.execute_input": "2023-07-09T06:59:25.371518Z",
     "iopub.status.busy": "2023-07-09T06:59:25.371094Z",
     "iopub.status.idle": "2023-07-09T06:59:25.380980Z",
     "shell.execute_reply": "2023-07-09T06:59:25.379916Z"
    },
    "papermill": {
     "duration": 0.018398,
     "end_time": "2023-07-09T06:59:25.383560",
     "exception": false,
     "start_time": "2023-07-09T06:59:25.365162",
     "status": "completed"
    },
    "tags": []
   },
   "outputs": [
    {
     "data": {
      "text/plain": [
       "0         Poison\n",
       "1         Poison\n",
       "2         Poison\n",
       "3         Poison\n",
       "4             NA\n",
       "          ...   \n",
       "1189    Fighting\n",
       "1190      Dragon\n",
       "1191      Dragon\n",
       "1192      Dragon\n",
       "1193     Psychic\n",
       "Name: Type2, Length: 1194, dtype: object"
      ]
     },
     "execution_count": 5,
     "metadata": {},
     "output_type": "execute_result"
    }
   ],
   "source": [
    "df['Type2'].replace(np.nan, \"NA\",regex=True)"
   ]
  },
  {
   "cell_type": "code",
   "execution_count": 6,
   "id": "42c45090",
   "metadata": {
    "execution": {
     "iopub.execute_input": "2023-07-09T06:59:25.395051Z",
     "iopub.status.busy": "2023-07-09T06:59:25.394655Z",
     "iopub.status.idle": "2023-07-09T06:59:25.401943Z",
     "shell.execute_reply": "2023-07-09T06:59:25.400624Z"
    },
    "papermill": {
     "duration": 0.015893,
     "end_time": "2023-07-09T06:59:25.404430",
     "exception": false,
     "start_time": "2023-07-09T06:59:25.388537",
     "status": "completed"
    },
    "tags": []
   },
   "outputs": [
    {
     "data": {
      "text/plain": [
       "array(['Poison', nan, 'Flying', 'Dragon', 'Normal', 'Psychic', 'Steel',\n",
       "       'Ground', 'Fairy', 'Grass', 'Rock', 'Fighting', 'Electric', 'Ice',\n",
       "       'Dark', 'Ghost', 'Fire', 'Water', 'Bug'], dtype=object)"
      ]
     },
     "execution_count": 6,
     "metadata": {},
     "output_type": "execute_result"
    }
   ],
   "source": [
    "df['Type2'].unique()"
   ]
  },
  {
   "cell_type": "markdown",
   "id": "ae5d0979",
   "metadata": {
    "papermill": {
     "duration": 0.004509,
     "end_time": "2023-07-09T06:59:25.413803",
     "exception": false,
     "start_time": "2023-07-09T06:59:25.409294",
     "status": "completed"
    },
    "tags": []
   },
   "source": [
    "## Data storytelling ideas\n",
    "\n",
    "1. Visualization of each pokemon's abilities\n",
    "2. Visualization of Distribution of abilities metrics\n",
    "3. Top 10 Pokemon in each metrics\n",
    "\n",
    "- Tell the background about each pokemon and what's their story\n",
    "- What each attacks tell about pokemon\n",
    "- Who's the most powerful pokemon?\n",
    "- Who's the least powerful pokemon?"
   ]
  },
  {
   "cell_type": "code",
   "execution_count": null,
   "id": "04bdbbcf",
   "metadata": {
    "papermill": {
     "duration": 0.005109,
     "end_time": "2023-07-09T06:59:25.424046",
     "exception": false,
     "start_time": "2023-07-09T06:59:25.418937",
     "status": "completed"
    },
    "tags": []
   },
   "outputs": [],
   "source": []
  }
 ],
 "metadata": {
  "kernelspec": {
   "display_name": "Python 3",
   "language": "python",
   "name": "python3"
  },
  "language_info": {
   "codemirror_mode": {
    "name": "ipython",
    "version": 3
   },
   "file_extension": ".py",
   "mimetype": "text/x-python",
   "name": "python",
   "nbconvert_exporter": "python",
   "pygments_lexer": "ipython3",
   "version": "3.10.10"
  },
  "papermill": {
   "default_parameters": {},
   "duration": 16.447337,
   "end_time": "2023-07-09T06:59:26.453722",
   "environment_variables": {},
   "exception": null,
   "input_path": "__notebook__.ipynb",
   "output_path": "__notebook__.ipynb",
   "parameters": {},
   "start_time": "2023-07-09T06:59:10.006385",
   "version": "2.4.0"
  }
 },
 "nbformat": 4,
 "nbformat_minor": 5
}
