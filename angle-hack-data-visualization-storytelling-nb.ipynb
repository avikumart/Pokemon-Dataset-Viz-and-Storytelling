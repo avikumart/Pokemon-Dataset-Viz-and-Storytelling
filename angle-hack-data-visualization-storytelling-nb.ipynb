{
 "cells": [
  {
   "cell_type": "code",
   "execution_count": null,
   "id": "f7e63432",
   "metadata": {
    "_cell_guid": "b1076dfc-b9ad-4769-8c92-a6c4dae69d19",
    "_uuid": "8f2839f25d086af736a60e9eeb907d3b93b6e0e5",
    "execution": {
     "iopub.execute_input": "2023-07-12T14:07:09.284612Z",
     "iopub.status.busy": "2023-07-12T14:07:09.283814Z",
     "iopub.status.idle": "2023-07-12T14:07:11.606647Z",
     "shell.execute_reply": "2023-07-12T14:07:11.605451Z"
    },
    "papermill": {
     "duration": 2.334135,
     "end_time": "2023-07-12T14:07:11.609543",
     "exception": false,
     "start_time": "2023-07-12T14:07:09.275408",
     "status": "completed"
    },
    "tags": []
   },
   "outputs": [],
   "source": [
    "import numpy as np # linear algebra\n",
    "import pandas as pd # data processing, CSV file I/O (e.g. pd.read_csv)\n",
    "import matplotlib.pyplot as plt # import matplotlib pyplot class\n",
    "import plotly.express as px"
   ]
  },
  {
   "cell_type": "markdown",
   "id": "7aa5d981",
   "metadata": {
    "papermill": {
     "duration": 0.006954,
     "end_time": "2023-07-12T14:07:11.623504",
     "exception": false,
     "start_time": "2023-07-12T14:07:11.616550",
     "status": "completed"
    },
    "tags": []
   },
   "source": [
    "- [Challenge Link](https://tribegroup.notion.site/AngelHack-Monthly-Code-Challenge-e1b6ea075c1445b8b7ce3ca16d207b5e)"
   ]
  },
  {
   "cell_type": "code",
   "execution_count": 2,
   "id": "ca5a7887",
   "metadata": {
    "execution": {
     "iopub.execute_input": "2023-07-12T14:07:11.638613Z",
     "iopub.status.busy": "2023-07-12T14:07:11.638185Z",
     "iopub.status.idle": "2023-07-12T14:07:11.711952Z",
     "shell.execute_reply": "2023-07-12T14:07:11.710710Z"
    },
    "papermill": {
     "duration": 0.085035,
     "end_time": "2023-07-12T14:07:11.715359",
     "exception": false,
     "start_time": "2023-07-12T14:07:11.630324",
     "status": "completed"
    },
    "tags": []
   },
   "outputs": [
    {
     "data": {
      "text/html": [
       "<div>\n",
       "<style scoped>\n",
       "    .dataframe tbody tr th:only-of-type {\n",
       "        vertical-align: middle;\n",
       "    }\n",
       "\n",
       "    .dataframe tbody tr th {\n",
       "        vertical-align: top;\n",
       "    }\n",
       "\n",
       "    .dataframe thead th {\n",
       "        text-align: right;\n",
       "    }\n",
       "</style>\n",
       "<table border=\"1\" class=\"dataframe\">\n",
       "  <thead>\n",
       "    <tr style=\"text-align: right;\">\n",
       "      <th></th>\n",
       "      <th>image_url</th>\n",
       "      <th>Id</th>\n",
       "      <th>Names</th>\n",
       "      <th>Type1</th>\n",
       "      <th>Type2</th>\n",
       "      <th>Total</th>\n",
       "      <th>HP</th>\n",
       "      <th>Attack</th>\n",
       "      <th>Defense</th>\n",
       "      <th>Sp. Atk</th>\n",
       "      <th>Sp. Def</th>\n",
       "      <th>Speed</th>\n",
       "    </tr>\n",
       "  </thead>\n",
       "  <tbody>\n",
       "    <tr>\n",
       "      <th>0</th>\n",
       "      <td>https://img.pokemondb.net/sprites/sword-shield...</td>\n",
       "      <td>1</td>\n",
       "      <td>Bulbasaur</td>\n",
       "      <td>Grass</td>\n",
       "      <td>Poison</td>\n",
       "      <td>318</td>\n",
       "      <td>45</td>\n",
       "      <td>49</td>\n",
       "      <td>49</td>\n",
       "      <td>65</td>\n",
       "      <td>65</td>\n",
       "      <td>45</td>\n",
       "    </tr>\n",
       "    <tr>\n",
       "      <th>1</th>\n",
       "      <td>https://img.pokemondb.net/sprites/sword-shield...</td>\n",
       "      <td>2</td>\n",
       "      <td>Ivysaur</td>\n",
       "      <td>Grass</td>\n",
       "      <td>Poison</td>\n",
       "      <td>405</td>\n",
       "      <td>60</td>\n",
       "      <td>62</td>\n",
       "      <td>63</td>\n",
       "      <td>80</td>\n",
       "      <td>80</td>\n",
       "      <td>60</td>\n",
       "    </tr>\n",
       "    <tr>\n",
       "      <th>2</th>\n",
       "      <td>https://img.pokemondb.net/sprites/sword-shield...</td>\n",
       "      <td>3</td>\n",
       "      <td>Venusaur</td>\n",
       "      <td>Grass</td>\n",
       "      <td>Poison</td>\n",
       "      <td>525</td>\n",
       "      <td>80</td>\n",
       "      <td>82</td>\n",
       "      <td>83</td>\n",
       "      <td>100</td>\n",
       "      <td>100</td>\n",
       "      <td>80</td>\n",
       "    </tr>\n",
       "    <tr>\n",
       "      <th>3</th>\n",
       "      <td>https://img.pokemondb.net/sprites/sword-shield...</td>\n",
       "      <td>3</td>\n",
       "      <td>Venusaur Mega Venusaur</td>\n",
       "      <td>Grass</td>\n",
       "      <td>Poison</td>\n",
       "      <td>625</td>\n",
       "      <td>80</td>\n",
       "      <td>100</td>\n",
       "      <td>123</td>\n",
       "      <td>122</td>\n",
       "      <td>120</td>\n",
       "      <td>80</td>\n",
       "    </tr>\n",
       "    <tr>\n",
       "      <th>4</th>\n",
       "      <td>https://img.pokemondb.net/sprites/sword-shield...</td>\n",
       "      <td>4</td>\n",
       "      <td>Charmander</td>\n",
       "      <td>Fire</td>\n",
       "      <td>NaN</td>\n",
       "      <td>309</td>\n",
       "      <td>39</td>\n",
       "      <td>52</td>\n",
       "      <td>43</td>\n",
       "      <td>60</td>\n",
       "      <td>50</td>\n",
       "      <td>65</td>\n",
       "    </tr>\n",
       "  </tbody>\n",
       "</table>\n",
       "</div>"
      ],
      "text/plain": [
       "                                           image_url  Id  \\\n",
       "0  https://img.pokemondb.net/sprites/sword-shield...   1   \n",
       "1  https://img.pokemondb.net/sprites/sword-shield...   2   \n",
       "2  https://img.pokemondb.net/sprites/sword-shield...   3   \n",
       "3  https://img.pokemondb.net/sprites/sword-shield...   3   \n",
       "4  https://img.pokemondb.net/sprites/sword-shield...   4   \n",
       "\n",
       "                    Names  Type1   Type2  Total  HP  Attack  Defense  Sp. Atk  \\\n",
       "0               Bulbasaur  Grass  Poison    318  45      49       49       65   \n",
       "1                 Ivysaur  Grass  Poison    405  60      62       63       80   \n",
       "2                Venusaur  Grass  Poison    525  80      82       83      100   \n",
       "3  Venusaur Mega Venusaur  Grass  Poison    625  80     100      123      122   \n",
       "4              Charmander   Fire     NaN    309  39      52       43       60   \n",
       "\n",
       "   Sp. Def  Speed  \n",
       "0       65     45  \n",
       "1       80     60  \n",
       "2      100     80  \n",
       "3      120     80  \n",
       "4       50     65  "
      ]
     },
     "execution_count": 2,
     "metadata": {},
     "output_type": "execute_result"
    }
   ],
   "source": [
    "# load the dataset\n",
    "df = pd.read_csv(\"/kaggle/input/pokemon-dataset/pokemon.csv\", index_col=0)\n",
    "df.head()"
   ]
  },
  {
   "cell_type": "markdown",
   "id": "9bbe2659",
   "metadata": {
    "papermill": {
     "duration": 0.007049,
     "end_time": "2023-07-12T14:07:11.865970",
     "exception": false,
     "start_time": "2023-07-12T14:07:11.858921",
     "status": "completed"
    },
    "tags": []
   },
   "source": [
    "### 1. Define function to visualize each skills of pokemon"
   ]
  },
  {
   "cell_type": "code",
   "execution_count": 7,
   "id": "4dfd308c",
   "metadata": {
    "execution": {
     "iopub.execute_input": "2023-07-12T14:07:11.896863Z",
     "iopub.status.busy": "2023-07-12T14:07:11.896450Z",
     "iopub.status.idle": "2023-07-12T14:07:13.878791Z",
     "shell.execute_reply": "2023-07-12T14:07:13.877558Z"
    },
    "papermill": {
     "duration": 1.994182,
     "end_time": "2023-07-12T14:07:13.881803",
     "exception": false,
     "start_time": "2023-07-12T14:07:11.887621",
     "status": "completed"
    },
    "tags": []
   },
   "outputs": [
    {
     "data": {
      "text/html": [
       "        <script type=\"text/javascript\">\n",
       "        window.PlotlyConfig = {MathJaxConfig: 'local'};\n",
       "        if (window.MathJax && window.MathJax.Hub && window.MathJax.Hub.Config) {window.MathJax.Hub.Config({SVG: {font: \"STIX-Web\"}});}\n",
       "        if (typeof require !== 'undefined') {\n",
       "        require.undef(\"plotly\");\n",
       "        requirejs.config({\n",
       "            paths: {\n",
       "                'plotly': ['https://cdn.plot.ly/plotly-2.20.0.min']\n",
       "            }\n",
       "        });\n",
       "        require(['plotly'], function(Plotly) {\n",
       "            window._Plotly = Plotly;\n",
       "        });\n",
       "        }\n",
       "        </script>\n",
       "        "
      ]
     },
     "metadata": {},
     "output_type": "display_data"
    },
    {
     "data": {
      "text/html": [
       "<div>                            <div id=\"79e4c6f6-f24d-428a-9edc-c7e991eac948\" class=\"plotly-graph-div\" style=\"height:400px; width:100%;\"></div>            <script type=\"text/javascript\">                require([\"plotly\"], function(Plotly) {                    window.PLOTLYENV=window.PLOTLYENV || {};                                    if (document.getElementById(\"79e4c6f6-f24d-428a-9edc-c7e991eac948\")) {                    Plotly.newPlot(                        \"79e4c6f6-f24d-428a-9edc-c7e991eac948\",                        [{\"alignmentgroup\":\"True\",\"hovertemplate\":\"Metric=%{x}<br>Points=%{marker.color}<extra></extra>\",\"legendgroup\":\"\",\"marker\":{\"color\":[80,82,83,100,100,80],\"coloraxis\":\"coloraxis\",\"pattern\":{\"shape\":\"\"}},\"name\":\"\",\"offsetgroup\":\"\",\"orientation\":\"v\",\"showlegend\":false,\"textposition\":\"auto\",\"x\":[\"HP\",\"Attack\",\"Defense\",\"Sp. Atk\",\"Sp. Def\",\"Speed\"],\"xaxis\":\"x\",\"y\":[80,82,83,100,100,80],\"yaxis\":\"y\",\"type\":\"bar\"}],                        {\"template\":{\"data\":{\"histogram2dcontour\":[{\"type\":\"histogram2dcontour\",\"colorbar\":{\"outlinewidth\":0,\"ticks\":\"\"},\"colorscale\":[[0.0,\"#0d0887\"],[0.1111111111111111,\"#46039f\"],[0.2222222222222222,\"#7201a8\"],[0.3333333333333333,\"#9c179e\"],[0.4444444444444444,\"#bd3786\"],[0.5555555555555556,\"#d8576b\"],[0.6666666666666666,\"#ed7953\"],[0.7777777777777778,\"#fb9f3a\"],[0.8888888888888888,\"#fdca26\"],[1.0,\"#f0f921\"]]}],\"choropleth\":[{\"type\":\"choropleth\",\"colorbar\":{\"outlinewidth\":0,\"ticks\":\"\"}}],\"histogram2d\":[{\"type\":\"histogram2d\",\"colorbar\":{\"outlinewidth\":0,\"ticks\":\"\"},\"colorscale\":[[0.0,\"#0d0887\"],[0.1111111111111111,\"#46039f\"],[0.2222222222222222,\"#7201a8\"],[0.3333333333333333,\"#9c179e\"],[0.4444444444444444,\"#bd3786\"],[0.5555555555555556,\"#d8576b\"],[0.6666666666666666,\"#ed7953\"],[0.7777777777777778,\"#fb9f3a\"],[0.8888888888888888,\"#fdca26\"],[1.0,\"#f0f921\"]]}],\"heatmap\":[{\"type\":\"heatmap\",\"colorbar\":{\"outlinewidth\":0,\"ticks\":\"\"},\"colorscale\":[[0.0,\"#0d0887\"],[0.1111111111111111,\"#46039f\"],[0.2222222222222222,\"#7201a8\"],[0.3333333333333333,\"#9c179e\"],[0.4444444444444444,\"#bd3786\"],[0.5555555555555556,\"#d8576b\"],[0.6666666666666666,\"#ed7953\"],[0.7777777777777778,\"#fb9f3a\"],[0.8888888888888888,\"#fdca26\"],[1.0,\"#f0f921\"]]}],\"heatmapgl\":[{\"type\":\"heatmapgl\",\"colorbar\":{\"outlinewidth\":0,\"ticks\":\"\"},\"colorscale\":[[0.0,\"#0d0887\"],[0.1111111111111111,\"#46039f\"],[0.2222222222222222,\"#7201a8\"],[0.3333333333333333,\"#9c179e\"],[0.4444444444444444,\"#bd3786\"],[0.5555555555555556,\"#d8576b\"],[0.6666666666666666,\"#ed7953\"],[0.7777777777777778,\"#fb9f3a\"],[0.8888888888888888,\"#fdca26\"],[1.0,\"#f0f921\"]]}],\"contourcarpet\":[{\"type\":\"contourcarpet\",\"colorbar\":{\"outlinewidth\":0,\"ticks\":\"\"}}],\"contour\":[{\"type\":\"contour\",\"colorbar\":{\"outlinewidth\":0,\"ticks\":\"\"},\"colorscale\":[[0.0,\"#0d0887\"],[0.1111111111111111,\"#46039f\"],[0.2222222222222222,\"#7201a8\"],[0.3333333333333333,\"#9c179e\"],[0.4444444444444444,\"#bd3786\"],[0.5555555555555556,\"#d8576b\"],[0.6666666666666666,\"#ed7953\"],[0.7777777777777778,\"#fb9f3a\"],[0.8888888888888888,\"#fdca26\"],[1.0,\"#f0f921\"]]}],\"surface\":[{\"type\":\"surface\",\"colorbar\":{\"outlinewidth\":0,\"ticks\":\"\"},\"colorscale\":[[0.0,\"#0d0887\"],[0.1111111111111111,\"#46039f\"],[0.2222222222222222,\"#7201a8\"],[0.3333333333333333,\"#9c179e\"],[0.4444444444444444,\"#bd3786\"],[0.5555555555555556,\"#d8576b\"],[0.6666666666666666,\"#ed7953\"],[0.7777777777777778,\"#fb9f3a\"],[0.8888888888888888,\"#fdca26\"],[1.0,\"#f0f921\"]]}],\"mesh3d\":[{\"type\":\"mesh3d\",\"colorbar\":{\"outlinewidth\":0,\"ticks\":\"\"}}],\"scatter\":[{\"fillpattern\":{\"fillmode\":\"overlay\",\"size\":10,\"solidity\":0.2},\"type\":\"scatter\"}],\"parcoords\":[{\"type\":\"parcoords\",\"line\":{\"colorbar\":{\"outlinewidth\":0,\"ticks\":\"\"}}}],\"scatterpolargl\":[{\"type\":\"scatterpolargl\",\"marker\":{\"colorbar\":{\"outlinewidth\":0,\"ticks\":\"\"}}}],\"bar\":[{\"error_x\":{\"color\":\"#2a3f5f\"},\"error_y\":{\"color\":\"#2a3f5f\"},\"marker\":{\"line\":{\"color\":\"#E5ECF6\",\"width\":0.5},\"pattern\":{\"fillmode\":\"overlay\",\"size\":10,\"solidity\":0.2}},\"type\":\"bar\"}],\"scattergeo\":[{\"type\":\"scattergeo\",\"marker\":{\"colorbar\":{\"outlinewidth\":0,\"ticks\":\"\"}}}],\"scatterpolar\":[{\"type\":\"scatterpolar\",\"marker\":{\"colorbar\":{\"outlinewidth\":0,\"ticks\":\"\"}}}],\"histogram\":[{\"marker\":{\"pattern\":{\"fillmode\":\"overlay\",\"size\":10,\"solidity\":0.2}},\"type\":\"histogram\"}],\"scattergl\":[{\"type\":\"scattergl\",\"marker\":{\"colorbar\":{\"outlinewidth\":0,\"ticks\":\"\"}}}],\"scatter3d\":[{\"type\":\"scatter3d\",\"line\":{\"colorbar\":{\"outlinewidth\":0,\"ticks\":\"\"}},\"marker\":{\"colorbar\":{\"outlinewidth\":0,\"ticks\":\"\"}}}],\"scattermapbox\":[{\"type\":\"scattermapbox\",\"marker\":{\"colorbar\":{\"outlinewidth\":0,\"ticks\":\"\"}}}],\"scatterternary\":[{\"type\":\"scatterternary\",\"marker\":{\"colorbar\":{\"outlinewidth\":0,\"ticks\":\"\"}}}],\"scattercarpet\":[{\"type\":\"scattercarpet\",\"marker\":{\"colorbar\":{\"outlinewidth\":0,\"ticks\":\"\"}}}],\"carpet\":[{\"aaxis\":{\"endlinecolor\":\"#2a3f5f\",\"gridcolor\":\"white\",\"linecolor\":\"white\",\"minorgridcolor\":\"white\",\"startlinecolor\":\"#2a3f5f\"},\"baxis\":{\"endlinecolor\":\"#2a3f5f\",\"gridcolor\":\"white\",\"linecolor\":\"white\",\"minorgridcolor\":\"white\",\"startlinecolor\":\"#2a3f5f\"},\"type\":\"carpet\"}],\"table\":[{\"cells\":{\"fill\":{\"color\":\"#EBF0F8\"},\"line\":{\"color\":\"white\"}},\"header\":{\"fill\":{\"color\":\"#C8D4E3\"},\"line\":{\"color\":\"white\"}},\"type\":\"table\"}],\"barpolar\":[{\"marker\":{\"line\":{\"color\":\"#E5ECF6\",\"width\":0.5},\"pattern\":{\"fillmode\":\"overlay\",\"size\":10,\"solidity\":0.2}},\"type\":\"barpolar\"}],\"pie\":[{\"automargin\":true,\"type\":\"pie\"}]},\"layout\":{\"autotypenumbers\":\"strict\",\"colorway\":[\"#636efa\",\"#EF553B\",\"#00cc96\",\"#ab63fa\",\"#FFA15A\",\"#19d3f3\",\"#FF6692\",\"#B6E880\",\"#FF97FF\",\"#FECB52\"],\"font\":{\"color\":\"#2a3f5f\"},\"hovermode\":\"closest\",\"hoverlabel\":{\"align\":\"left\"},\"paper_bgcolor\":\"white\",\"plot_bgcolor\":\"#E5ECF6\",\"polar\":{\"bgcolor\":\"#E5ECF6\",\"angularaxis\":{\"gridcolor\":\"white\",\"linecolor\":\"white\",\"ticks\":\"\"},\"radialaxis\":{\"gridcolor\":\"white\",\"linecolor\":\"white\",\"ticks\":\"\"}},\"ternary\":{\"bgcolor\":\"#E5ECF6\",\"aaxis\":{\"gridcolor\":\"white\",\"linecolor\":\"white\",\"ticks\":\"\"},\"baxis\":{\"gridcolor\":\"white\",\"linecolor\":\"white\",\"ticks\":\"\"},\"caxis\":{\"gridcolor\":\"white\",\"linecolor\":\"white\",\"ticks\":\"\"}},\"coloraxis\":{\"colorbar\":{\"outlinewidth\":0,\"ticks\":\"\"}},\"colorscale\":{\"sequential\":[[0.0,\"#0d0887\"],[0.1111111111111111,\"#46039f\"],[0.2222222222222222,\"#7201a8\"],[0.3333333333333333,\"#9c179e\"],[0.4444444444444444,\"#bd3786\"],[0.5555555555555556,\"#d8576b\"],[0.6666666666666666,\"#ed7953\"],[0.7777777777777778,\"#fb9f3a\"],[0.8888888888888888,\"#fdca26\"],[1.0,\"#f0f921\"]],\"sequentialminus\":[[0.0,\"#0d0887\"],[0.1111111111111111,\"#46039f\"],[0.2222222222222222,\"#7201a8\"],[0.3333333333333333,\"#9c179e\"],[0.4444444444444444,\"#bd3786\"],[0.5555555555555556,\"#d8576b\"],[0.6666666666666666,\"#ed7953\"],[0.7777777777777778,\"#fb9f3a\"],[0.8888888888888888,\"#fdca26\"],[1.0,\"#f0f921\"]],\"diverging\":[[0,\"#8e0152\"],[0.1,\"#c51b7d\"],[0.2,\"#de77ae\"],[0.3,\"#f1b6da\"],[0.4,\"#fde0ef\"],[0.5,\"#f7f7f7\"],[0.6,\"#e6f5d0\"],[0.7,\"#b8e186\"],[0.8,\"#7fbc41\"],[0.9,\"#4d9221\"],[1,\"#276419\"]]},\"xaxis\":{\"gridcolor\":\"white\",\"linecolor\":\"white\",\"ticks\":\"\",\"title\":{\"standoff\":15},\"zerolinecolor\":\"white\",\"automargin\":true,\"zerolinewidth\":2},\"yaxis\":{\"gridcolor\":\"white\",\"linecolor\":\"white\",\"ticks\":\"\",\"title\":{\"standoff\":15},\"zerolinecolor\":\"white\",\"automargin\":true,\"zerolinewidth\":2},\"scene\":{\"xaxis\":{\"backgroundcolor\":\"#E5ECF6\",\"gridcolor\":\"white\",\"linecolor\":\"white\",\"showbackground\":true,\"ticks\":\"\",\"zerolinecolor\":\"white\",\"gridwidth\":2},\"yaxis\":{\"backgroundcolor\":\"#E5ECF6\",\"gridcolor\":\"white\",\"linecolor\":\"white\",\"showbackground\":true,\"ticks\":\"\",\"zerolinecolor\":\"white\",\"gridwidth\":2},\"zaxis\":{\"backgroundcolor\":\"#E5ECF6\",\"gridcolor\":\"white\",\"linecolor\":\"white\",\"showbackground\":true,\"ticks\":\"\",\"zerolinecolor\":\"white\",\"gridwidth\":2}},\"shapedefaults\":{\"line\":{\"color\":\"#2a3f5f\"}},\"annotationdefaults\":{\"arrowcolor\":\"#2a3f5f\",\"arrowhead\":0,\"arrowwidth\":1},\"geo\":{\"bgcolor\":\"white\",\"landcolor\":\"#E5ECF6\",\"subunitcolor\":\"white\",\"showland\":true,\"showlakes\":true,\"lakecolor\":\"white\"},\"title\":{\"x\":0.05},\"mapbox\":{\"style\":\"light\"}}},\"xaxis\":{\"anchor\":\"y\",\"domain\":[0.0,1.0],\"title\":{\"text\":\"Skills\",\"font\":{\"color\":\"black\",\"size\":17}}},\"yaxis\":{\"anchor\":\"x\",\"domain\":[0.0,1.0],\"title\":{\"text\":\"Points level\",\"font\":{\"color\":\"black\",\"size\":17}}},\"coloraxis\":{\"colorbar\":{\"title\":{\"text\":\"Points\"}},\"colorscale\":[[0.0,\"#0d0887\"],[0.1111111111111111,\"#46039f\"],[0.2222222222222222,\"#7201a8\"],[0.3333333333333333,\"#9c179e\"],[0.4444444444444444,\"#bd3786\"],[0.5555555555555556,\"#d8576b\"],[0.6666666666666666,\"#ed7953\"],[0.7777777777777778,\"#fb9f3a\"],[0.8888888888888888,\"#fdca26\"],[1.0,\"#f0f921\"]]},\"legend\":{\"tracegroupgap\":0},\"margin\":{\"t\":60},\"barmode\":\"relative\",\"height\":400,\"title\":{\"text\":\"Skill levels of Pokemon Venusaur\",\"font\":{\"family\":\"Sitka Small\",\"color\":\"Black\",\"size\":22}}},                        {\"responsive\": true}                    ).then(function(){\n",
       "                            \n",
       "var gd = document.getElementById('79e4c6f6-f24d-428a-9edc-c7e991eac948');\n",
       "var x = new MutationObserver(function (mutations, observer) {{\n",
       "        var display = window.getComputedStyle(gd).display;\n",
       "        if (!display || display === 'none') {{\n",
       "            console.log([gd, 'removed!']);\n",
       "            Plotly.purge(gd);\n",
       "            observer.disconnect();\n",
       "        }}\n",
       "}});\n",
       "\n",
       "// Listen for the removal of the full notebook cells\n",
       "var notebookContainer = gd.closest('#notebook-container');\n",
       "if (notebookContainer) {{\n",
       "    x.observe(notebookContainer, {childList: true});\n",
       "}}\n",
       "\n",
       "// Listen for the clearing of the current output cell\n",
       "var outputEl = gd.closest('.output');\n",
       "if (outputEl) {{\n",
       "    x.observe(outputEl, {childList: true});\n",
       "}}\n",
       "\n",
       "                        })                };                });            </script>        </div>"
      ]
     },
     "metadata": {},
     "output_type": "display_data"
    }
   ],
   "source": [
    "# define the function to visualize each pokemon chars abilities\n",
    "def pokemon_skills(df, name):\n",
    "    cat_val = list(df[df['Names'] == name][['image_url','Type1','Type2']].values[0])\n",
    "    num_val = list(df[df['Names'] == name][['HP','Attack','Defense','Sp. Atk','Sp. Def','Speed']].values[0])\n",
    "    ps_df = pd.DataFrame({'Metric':['HP','Attack','Defense','Sp. Atk','Sp. Def','Speed'],\n",
    "              'Points':num_val})\n",
    "    \n",
    "    fig = px.bar(ps_df, x=ps_df['Metric'], y=ps_df['Points'], color=ps_df['Points'], \n",
    "             labels={'color':'Points level'}, height=400)\n",
    "    \n",
    "    # update the layout\n",
    "    fig.update_layout(title=f'Skill levels of Pokemon {name}',\n",
    "                  xaxis_title='Skills',\n",
    "                  yaxis_title='Points level',\n",
    "                  title_font_family=\"Sitka Small\",\n",
    "                  title_font_color=\"Black\",\n",
    "                  title_font_size=22,\n",
    "                  xaxis_title_font_color='black',\n",
    "                  xaxis_title_font_size=17,\n",
    "                  yaxis_title_font_color='black',\n",
    "                  yaxis_title_font_size=17\n",
    "                )\n",
    "\n",
    "    fig.show()\n",
    "    \n",
    "pokemon_skills(df,'Venusaur')"
   ]
  },
  {
   "cell_type": "markdown",
   "id": "6ac375d8",
   "metadata": {
    "papermill": {
     "duration": 0.007682,
     "end_time": "2023-07-12T14:07:13.897455",
     "exception": false,
     "start_time": "2023-07-12T14:07:13.889773",
     "status": "completed"
    },
    "tags": []
   },
   "source": [
    "### 2. Distribution of each metric of pokemon"
   ]
  },
  {
   "cell_type": "code",
   "execution_count": 8,
   "id": "f70d6843",
   "metadata": {
    "execution": {
     "iopub.execute_input": "2023-07-12T14:07:13.931554Z",
     "iopub.status.busy": "2023-07-12T14:07:13.931164Z",
     "iopub.status.idle": "2023-07-12T14:07:14.136344Z",
     "shell.execute_reply": "2023-07-12T14:07:14.134865Z"
    },
    "papermill": {
     "duration": 0.217207,
     "end_time": "2023-07-12T14:07:14.139186",
     "exception": false,
     "start_time": "2023-07-12T14:07:13.921979",
     "status": "completed"
    },
    "tags": []
   },
   "outputs": [
    {
     "data": {
      "text/html": [
       "<div>                            <div id=\"6dec7a80-7035-4ac9-a04c-e0163eb0adeb\" class=\"plotly-graph-div\" style=\"height:525px; width:100%;\"></div>            <script type=\"text/javascript\">                require([\"plotly\"], function(Plotly) {                    window.PLOTLYENV=window.PLOTLYENV || {};                                    if (document.getElementById(\"6dec7a80-7035-4ac9-a04c-e0163eb0adeb\")) {                    Plotly.newPlot(                        \"6dec7a80-7035-4ac9-a04c-e0163eb0adeb\",                        [{\"alignmentgroup\":\"True\",\"bingroup\":\"x\",\"hovertemplate\":\"HP=%{x}<br>count=%{y}<extra></extra>\",\"legendgroup\":\"\",\"marker\":{\"color\":\"#636efa\",\"pattern\":{\"shape\":\"\"}},\"name\":\"\",\"nbinsx\":30,\"offsetgroup\":\"\",\"orientation\":\"v\",\"showlegend\":false,\"x\":[45,60,80,80,39,58,78,78,78,44,59,79,79,45,50,60,40,45,65,65,40,63,83,83,30,30,55,75,40,65,35,60,35,45,60,60,50,50,75,75,55,70,90,46,61,81,70,95,38,38,73,73,115,140,40,75,45,60,75,35,60,60,70,10,10,35,35,40,40,50,65,65,50,80,40,65,55,60,90,95,40,65,90,25,40,55,55,70,80,90,50,65,80,40,80,40,40,55,55,80,80,50,50,65,65,90,90,95,95,95,25,50,52,52,35,60,65,90,80,80,105,105,30,50,30,45,60,60,35,60,85,30,55,40,40,60,60,60,95,95,50,60,60,50,50,90,40,65,65,80,105,250,65,105,105,30,55,45,80,30,60,40,50,70,65,65,65,65,65,75,75,75,75,20,95,95,130,48,55,65,130,65,65,65,35,70,30,60,80,80,160,90,90,90,90,90,90,41,61,91,106,106,106,100,45,60,80,39,58,78,73,50,65,85,35,85,60,100,40,55,40,70,85,75,125,20,50,90,35,55,40,65,55,70,90,90,75,70,100,70,90,35,55,75,55,30,75,65,55,55,95,65,95,60,95,95,60,48,190,70,50,75,100,65,75,75,60,90,65,65,70,70,20,80,80,55,55,60,90,40,60,50,100,65,60,35,75,45,85,65,45,75,75,75,90,90,85,73,55,35,50,45,45,45,95,255,90,115,100,50,70,100,100,106,106,100,40,50,70,70,45,60,80,80,50,70,100,100,35,70,38,38,78,78,45,50,60,50,60,40,60,80,40,70,90,40,60,40,60,28,38,68,68,40,70,60,60,60,80,150,31,61,1,64,84,104,72,144,50,30,50,70,50,50,50,50,50,60,70,70,30,60,60,40,70,70,60,60,65,65,50,70,100,45,70,70,130,170,60,70,70,70,60,80,60,45,50,80,50,70,45,75,75,73,73,90,90,50,110,43,63,40,60,66,86,45,75,20,95,70,70,70,70,60,44,64,64,20,40,99,75,65,65,95,50,80,80,70,90,110,35,55,55,100,43,45,65,95,95,40,60,80,80,80,80,80,80,80,80,80,100,100,100,100,105,105,100,50,50,50,50,55,75,95,44,64,76,53,64,84,40,55,85,59,79,37,77,45,60,80,40,60,67,97,30,60,40,40,40,60,60,60,70,30,70,60,55,85,45,70,76,111,75,90,150,55,65,65,60,100,49,71,45,63,103,57,67,50,20,100,76,50,58,68,108,108,135,40,70,70,68,108,40,70,48,83,74,49,69,45,60,90,90,70,70,110,115,100,75,75,85,86,65,65,75,110,85,68,68,60,45,70,50,50,50,50,50,50,75,80,75,100,100,90,90,91,110,150,150,120,80,100,70,100,100,120,100,45,60,75,65,90,110,55,75,95,90,45,60,45,65,85,41,64,50,75,50,75,50,75,76,116,50,62,80,45,75,55,70,85,65,67,60,110,103,103,75,85,105,50,75,105,120,75,45,55,75,30,40,60,40,60,45,70,70,70,70,70,50,60,95,70,70,105,105,105,105,75,50,70,50,65,72,38,38,58,54,74,55,75,50,80,40,35,60,55,55,75,45,60,70,45,65,110,62,75,36,51,71,60,80,55,50,70,69,114,55,100,165,50,70,44,74,40,60,60,35,65,85,55,75,50,60,60,46,66,76,55,95,80,50,80,109,109,45,65,77,59,89,45,65,95,70,100,110,70,110,85,58,52,72,92,55,85,91,91,91,79,79,79,79,100,100,89,89,125,125,125,91,91,100,100,71,56,61,88,40,59,75,41,54,72,72,38,85,45,62,78,38,45,80,62,86,44,54,78,66,123,67,95,75,62,74,74,45,59,60,60,78,101,62,82,53,86,42,72,50,65,50,71,44,62,58,82,77,123,95,78,67,50,45,68,58,90,80,57,43,85,49,44,54,59,65,55,75,85,55,95,95,40,85,126,126,108,54,216,50,50,80,80,80,68,78,78,88,45,65,95,50,60,80,35,55,80,48,88,47,57,77,47,97,75,75,75,75,40,60,45,45,75,85,75,45,45,50,50,70,100,38,68,40,70,40,60,48,68,70,120,42,52,72,51,90,100,25,75,55,85,55,95,95,60,60,65,60,65,55,68,78,70,45,55,75,70,70,70,70,43,43,137,137,109,107,71,83,97,59,223,97,97,97,97,80,90,67,73,61,53,88,46,135,50,70,100,50,65,80,50,65,70,70,120,38,68,98,25,50,60,40,70,40,60,42,72,50,90,59,69,30,80,110,40,70,110,52,72,70,41,61,40,75,75,50,100,50,80,40,60,42,57,57,45,65,95,93,70,60,62,80,58,45,65,65,48,30,70,100,75,75,60,70,58,58,72,122,90,90,90,90,70,28,68,88,92,92,92,92,140,255,60,100,100,105,80,200,100,100,100,100,100,103,70,130,120,120,80,85,74,74,40,61,76,67,81,104,55,70,85,54,110,115,35,60,33,71,45,60,70,50,74,74,37,57,41,52,78,82,82,82,82,55,60,100,40,85,75,61,109,40,70,60,80,40,63,40,55,40,80,70,50,65,41,75,30,95,50,65,85,10,35,70,70,100,100,45,80,70,70,48,83,50,72,82,108,170,90,150,68,68,68,110,130,120,125,125,100,115,115,111,55,85,85,90,56,154,94,80,100,65,90,115,45,45,87,85,80,155,55,105,74,100,100,99,90],\"xaxis\":\"x\",\"yaxis\":\"y\",\"type\":\"histogram\"},{\"alignmentgroup\":\"True\",\"boxpoints\":\"all\",\"fillcolor\":\"rgba(255,255,255,0)\",\"hoveron\":\"points\",\"hovertemplate\":\"HP=%{x}<extra></extra>\",\"jitter\":0,\"legendgroup\":\"\",\"line\":{\"color\":\"rgba(255,255,255,0)\"},\"marker\":{\"color\":\"#636efa\",\"symbol\":\"line-ns-open\"},\"name\":\"\",\"offsetgroup\":\"\",\"showlegend\":false,\"x\":[45,60,80,80,39,58,78,78,78,44,59,79,79,45,50,60,40,45,65,65,40,63,83,83,30,30,55,75,40,65,35,60,35,45,60,60,50,50,75,75,55,70,90,46,61,81,70,95,38,38,73,73,115,140,40,75,45,60,75,35,60,60,70,10,10,35,35,40,40,50,65,65,50,80,40,65,55,60,90,95,40,65,90,25,40,55,55,70,80,90,50,65,80,40,80,40,40,55,55,80,80,50,50,65,65,90,90,95,95,95,25,50,52,52,35,60,65,90,80,80,105,105,30,50,30,45,60,60,35,60,85,30,55,40,40,60,60,60,95,95,50,60,60,50,50,90,40,65,65,80,105,250,65,105,105,30,55,45,80,30,60,40,50,70,65,65,65,65,65,75,75,75,75,20,95,95,130,48,55,65,130,65,65,65,35,70,30,60,80,80,160,90,90,90,90,90,90,41,61,91,106,106,106,100,45,60,80,39,58,78,73,50,65,85,35,85,60,100,40,55,40,70,85,75,125,20,50,90,35,55,40,65,55,70,90,90,75,70,100,70,90,35,55,75,55,30,75,65,55,55,95,65,95,60,95,95,60,48,190,70,50,75,100,65,75,75,60,90,65,65,70,70,20,80,80,55,55,60,90,40,60,50,100,65,60,35,75,45,85,65,45,75,75,75,90,90,85,73,55,35,50,45,45,45,95,255,90,115,100,50,70,100,100,106,106,100,40,50,70,70,45,60,80,80,50,70,100,100,35,70,38,38,78,78,45,50,60,50,60,40,60,80,40,70,90,40,60,40,60,28,38,68,68,40,70,60,60,60,80,150,31,61,1,64,84,104,72,144,50,30,50,70,50,50,50,50,50,60,70,70,30,60,60,40,70,70,60,60,65,65,50,70,100,45,70,70,130,170,60,70,70,70,60,80,60,45,50,80,50,70,45,75,75,73,73,90,90,50,110,43,63,40,60,66,86,45,75,20,95,70,70,70,70,60,44,64,64,20,40,99,75,65,65,95,50,80,80,70,90,110,35,55,55,100,43,45,65,95,95,40,60,80,80,80,80,80,80,80,80,80,100,100,100,100,105,105,100,50,50,50,50,55,75,95,44,64,76,53,64,84,40,55,85,59,79,37,77,45,60,80,40,60,67,97,30,60,40,40,40,60,60,60,70,30,70,60,55,85,45,70,76,111,75,90,150,55,65,65,60,100,49,71,45,63,103,57,67,50,20,100,76,50,58,68,108,108,135,40,70,70,68,108,40,70,48,83,74,49,69,45,60,90,90,70,70,110,115,100,75,75,85,86,65,65,75,110,85,68,68,60,45,70,50,50,50,50,50,50,75,80,75,100,100,90,90,91,110,150,150,120,80,100,70,100,100,120,100,45,60,75,65,90,110,55,75,95,90,45,60,45,65,85,41,64,50,75,50,75,50,75,76,116,50,62,80,45,75,55,70,85,65,67,60,110,103,103,75,85,105,50,75,105,120,75,45,55,75,30,40,60,40,60,45,70,70,70,70,70,50,60,95,70,70,105,105,105,105,75,50,70,50,65,72,38,38,58,54,74,55,75,50,80,40,35,60,55,55,75,45,60,70,45,65,110,62,75,36,51,71,60,80,55,50,70,69,114,55,100,165,50,70,44,74,40,60,60,35,65,85,55,75,50,60,60,46,66,76,55,95,80,50,80,109,109,45,65,77,59,89,45,65,95,70,100,110,70,110,85,58,52,72,92,55,85,91,91,91,79,79,79,79,100,100,89,89,125,125,125,91,91,100,100,71,56,61,88,40,59,75,41,54,72,72,38,85,45,62,78,38,45,80,62,86,44,54,78,66,123,67,95,75,62,74,74,45,59,60,60,78,101,62,82,53,86,42,72,50,65,50,71,44,62,58,82,77,123,95,78,67,50,45,68,58,90,80,57,43,85,49,44,54,59,65,55,75,85,55,95,95,40,85,126,126,108,54,216,50,50,80,80,80,68,78,78,88,45,65,95,50,60,80,35,55,80,48,88,47,57,77,47,97,75,75,75,75,40,60,45,45,75,85,75,45,45,50,50,70,100,38,68,40,70,40,60,48,68,70,120,42,52,72,51,90,100,25,75,55,85,55,95,95,60,60,65,60,65,55,68,78,70,45,55,75,70,70,70,70,43,43,137,137,109,107,71,83,97,59,223,97,97,97,97,80,90,67,73,61,53,88,46,135,50,70,100,50,65,80,50,65,70,70,120,38,68,98,25,50,60,40,70,40,60,42,72,50,90,59,69,30,80,110,40,70,110,52,72,70,41,61,40,75,75,50,100,50,80,40,60,42,57,57,45,65,95,93,70,60,62,80,58,45,65,65,48,30,70,100,75,75,60,70,58,58,72,122,90,90,90,90,70,28,68,88,92,92,92,92,140,255,60,100,100,105,80,200,100,100,100,100,100,103,70,130,120,120,80,85,74,74,40,61,76,67,81,104,55,70,85,54,110,115,35,60,33,71,45,60,70,50,74,74,37,57,41,52,78,82,82,82,82,55,60,100,40,85,75,61,109,40,70,60,80,40,63,40,55,40,80,70,50,65,41,75,30,95,50,65,85,10,35,70,70,100,100,45,80,70,70,48,83,50,72,82,108,170,90,150,68,68,68,110,130,120,125,125,100,115,115,111,55,85,85,90,56,154,94,80,100,65,90,115,45,45,87,85,80,155,55,105,74,100,100,99,90],\"xaxis\":\"x2\",\"yaxis\":\"y2\",\"type\":\"box\"}],                        {\"template\":{\"data\":{\"histogram2dcontour\":[{\"type\":\"histogram2dcontour\",\"colorbar\":{\"outlinewidth\":0,\"ticks\":\"\"},\"colorscale\":[[0.0,\"#0d0887\"],[0.1111111111111111,\"#46039f\"],[0.2222222222222222,\"#7201a8\"],[0.3333333333333333,\"#9c179e\"],[0.4444444444444444,\"#bd3786\"],[0.5555555555555556,\"#d8576b\"],[0.6666666666666666,\"#ed7953\"],[0.7777777777777778,\"#fb9f3a\"],[0.8888888888888888,\"#fdca26\"],[1.0,\"#f0f921\"]]}],\"choropleth\":[{\"type\":\"choropleth\",\"colorbar\":{\"outlinewidth\":0,\"ticks\":\"\"}}],\"histogram2d\":[{\"type\":\"histogram2d\",\"colorbar\":{\"outlinewidth\":0,\"ticks\":\"\"},\"colorscale\":[[0.0,\"#0d0887\"],[0.1111111111111111,\"#46039f\"],[0.2222222222222222,\"#7201a8\"],[0.3333333333333333,\"#9c179e\"],[0.4444444444444444,\"#bd3786\"],[0.5555555555555556,\"#d8576b\"],[0.6666666666666666,\"#ed7953\"],[0.7777777777777778,\"#fb9f3a\"],[0.8888888888888888,\"#fdca26\"],[1.0,\"#f0f921\"]]}],\"heatmap\":[{\"type\":\"heatmap\",\"colorbar\":{\"outlinewidth\":0,\"ticks\":\"\"},\"colorscale\":[[0.0,\"#0d0887\"],[0.1111111111111111,\"#46039f\"],[0.2222222222222222,\"#7201a8\"],[0.3333333333333333,\"#9c179e\"],[0.4444444444444444,\"#bd3786\"],[0.5555555555555556,\"#d8576b\"],[0.6666666666666666,\"#ed7953\"],[0.7777777777777778,\"#fb9f3a\"],[0.8888888888888888,\"#fdca26\"],[1.0,\"#f0f921\"]]}],\"heatmapgl\":[{\"type\":\"heatmapgl\",\"colorbar\":{\"outlinewidth\":0,\"ticks\":\"\"},\"colorscale\":[[0.0,\"#0d0887\"],[0.1111111111111111,\"#46039f\"],[0.2222222222222222,\"#7201a8\"],[0.3333333333333333,\"#9c179e\"],[0.4444444444444444,\"#bd3786\"],[0.5555555555555556,\"#d8576b\"],[0.6666666666666666,\"#ed7953\"],[0.7777777777777778,\"#fb9f3a\"],[0.8888888888888888,\"#fdca26\"],[1.0,\"#f0f921\"]]}],\"contourcarpet\":[{\"type\":\"contourcarpet\",\"colorbar\":{\"outlinewidth\":0,\"ticks\":\"\"}}],\"contour\":[{\"type\":\"contour\",\"colorbar\":{\"outlinewidth\":0,\"ticks\":\"\"},\"colorscale\":[[0.0,\"#0d0887\"],[0.1111111111111111,\"#46039f\"],[0.2222222222222222,\"#7201a8\"],[0.3333333333333333,\"#9c179e\"],[0.4444444444444444,\"#bd3786\"],[0.5555555555555556,\"#d8576b\"],[0.6666666666666666,\"#ed7953\"],[0.7777777777777778,\"#fb9f3a\"],[0.8888888888888888,\"#fdca26\"],[1.0,\"#f0f921\"]]}],\"surface\":[{\"type\":\"surface\",\"colorbar\":{\"outlinewidth\":0,\"ticks\":\"\"},\"colorscale\":[[0.0,\"#0d0887\"],[0.1111111111111111,\"#46039f\"],[0.2222222222222222,\"#7201a8\"],[0.3333333333333333,\"#9c179e\"],[0.4444444444444444,\"#bd3786\"],[0.5555555555555556,\"#d8576b\"],[0.6666666666666666,\"#ed7953\"],[0.7777777777777778,\"#fb9f3a\"],[0.8888888888888888,\"#fdca26\"],[1.0,\"#f0f921\"]]}],\"mesh3d\":[{\"type\":\"mesh3d\",\"colorbar\":{\"outlinewidth\":0,\"ticks\":\"\"}}],\"scatter\":[{\"fillpattern\":{\"fillmode\":\"overlay\",\"size\":10,\"solidity\":0.2},\"type\":\"scatter\"}],\"parcoords\":[{\"type\":\"parcoords\",\"line\":{\"colorbar\":{\"outlinewidth\":0,\"ticks\":\"\"}}}],\"scatterpolargl\":[{\"type\":\"scatterpolargl\",\"marker\":{\"colorbar\":{\"outlinewidth\":0,\"ticks\":\"\"}}}],\"bar\":[{\"error_x\":{\"color\":\"#2a3f5f\"},\"error_y\":{\"color\":\"#2a3f5f\"},\"marker\":{\"line\":{\"color\":\"#E5ECF6\",\"width\":0.5},\"pattern\":{\"fillmode\":\"overlay\",\"size\":10,\"solidity\":0.2}},\"type\":\"bar\"}],\"scattergeo\":[{\"type\":\"scattergeo\",\"marker\":{\"colorbar\":{\"outlinewidth\":0,\"ticks\":\"\"}}}],\"scatterpolar\":[{\"type\":\"scatterpolar\",\"marker\":{\"colorbar\":{\"outlinewidth\":0,\"ticks\":\"\"}}}],\"histogram\":[{\"marker\":{\"pattern\":{\"fillmode\":\"overlay\",\"size\":10,\"solidity\":0.2}},\"type\":\"histogram\"}],\"scattergl\":[{\"type\":\"scattergl\",\"marker\":{\"colorbar\":{\"outlinewidth\":0,\"ticks\":\"\"}}}],\"scatter3d\":[{\"type\":\"scatter3d\",\"line\":{\"colorbar\":{\"outlinewidth\":0,\"ticks\":\"\"}},\"marker\":{\"colorbar\":{\"outlinewidth\":0,\"ticks\":\"\"}}}],\"scattermapbox\":[{\"type\":\"scattermapbox\",\"marker\":{\"colorbar\":{\"outlinewidth\":0,\"ticks\":\"\"}}}],\"scatterternary\":[{\"type\":\"scatterternary\",\"marker\":{\"colorbar\":{\"outlinewidth\":0,\"ticks\":\"\"}}}],\"scattercarpet\":[{\"type\":\"scattercarpet\",\"marker\":{\"colorbar\":{\"outlinewidth\":0,\"ticks\":\"\"}}}],\"carpet\":[{\"aaxis\":{\"endlinecolor\":\"#2a3f5f\",\"gridcolor\":\"white\",\"linecolor\":\"white\",\"minorgridcolor\":\"white\",\"startlinecolor\":\"#2a3f5f\"},\"baxis\":{\"endlinecolor\":\"#2a3f5f\",\"gridcolor\":\"white\",\"linecolor\":\"white\",\"minorgridcolor\":\"white\",\"startlinecolor\":\"#2a3f5f\"},\"type\":\"carpet\"}],\"table\":[{\"cells\":{\"fill\":{\"color\":\"#EBF0F8\"},\"line\":{\"color\":\"white\"}},\"header\":{\"fill\":{\"color\":\"#C8D4E3\"},\"line\":{\"color\":\"white\"}},\"type\":\"table\"}],\"barpolar\":[{\"marker\":{\"line\":{\"color\":\"#E5ECF6\",\"width\":0.5},\"pattern\":{\"fillmode\":\"overlay\",\"size\":10,\"solidity\":0.2}},\"type\":\"barpolar\"}],\"pie\":[{\"automargin\":true,\"type\":\"pie\"}]},\"layout\":{\"autotypenumbers\":\"strict\",\"colorway\":[\"#636efa\",\"#EF553B\",\"#00cc96\",\"#ab63fa\",\"#FFA15A\",\"#19d3f3\",\"#FF6692\",\"#B6E880\",\"#FF97FF\",\"#FECB52\"],\"font\":{\"color\":\"#2a3f5f\"},\"hovermode\":\"closest\",\"hoverlabel\":{\"align\":\"left\"},\"paper_bgcolor\":\"white\",\"plot_bgcolor\":\"#E5ECF6\",\"polar\":{\"bgcolor\":\"#E5ECF6\",\"angularaxis\":{\"gridcolor\":\"white\",\"linecolor\":\"white\",\"ticks\":\"\"},\"radialaxis\":{\"gridcolor\":\"white\",\"linecolor\":\"white\",\"ticks\":\"\"}},\"ternary\":{\"bgcolor\":\"#E5ECF6\",\"aaxis\":{\"gridcolor\":\"white\",\"linecolor\":\"white\",\"ticks\":\"\"},\"baxis\":{\"gridcolor\":\"white\",\"linecolor\":\"white\",\"ticks\":\"\"},\"caxis\":{\"gridcolor\":\"white\",\"linecolor\":\"white\",\"ticks\":\"\"}},\"coloraxis\":{\"colorbar\":{\"outlinewidth\":0,\"ticks\":\"\"}},\"colorscale\":{\"sequential\":[[0.0,\"#0d0887\"],[0.1111111111111111,\"#46039f\"],[0.2222222222222222,\"#7201a8\"],[0.3333333333333333,\"#9c179e\"],[0.4444444444444444,\"#bd3786\"],[0.5555555555555556,\"#d8576b\"],[0.6666666666666666,\"#ed7953\"],[0.7777777777777778,\"#fb9f3a\"],[0.8888888888888888,\"#fdca26\"],[1.0,\"#f0f921\"]],\"sequentialminus\":[[0.0,\"#0d0887\"],[0.1111111111111111,\"#46039f\"],[0.2222222222222222,\"#7201a8\"],[0.3333333333333333,\"#9c179e\"],[0.4444444444444444,\"#bd3786\"],[0.5555555555555556,\"#d8576b\"],[0.6666666666666666,\"#ed7953\"],[0.7777777777777778,\"#fb9f3a\"],[0.8888888888888888,\"#fdca26\"],[1.0,\"#f0f921\"]],\"diverging\":[[0,\"#8e0152\"],[0.1,\"#c51b7d\"],[0.2,\"#de77ae\"],[0.3,\"#f1b6da\"],[0.4,\"#fde0ef\"],[0.5,\"#f7f7f7\"],[0.6,\"#e6f5d0\"],[0.7,\"#b8e186\"],[0.8,\"#7fbc41\"],[0.9,\"#4d9221\"],[1,\"#276419\"]]},\"xaxis\":{\"gridcolor\":\"white\",\"linecolor\":\"white\",\"ticks\":\"\",\"title\":{\"standoff\":15},\"zerolinecolor\":\"white\",\"automargin\":true,\"zerolinewidth\":2},\"yaxis\":{\"gridcolor\":\"white\",\"linecolor\":\"white\",\"ticks\":\"\",\"title\":{\"standoff\":15},\"zerolinecolor\":\"white\",\"automargin\":true,\"zerolinewidth\":2},\"scene\":{\"xaxis\":{\"backgroundcolor\":\"#E5ECF6\",\"gridcolor\":\"white\",\"linecolor\":\"white\",\"showbackground\":true,\"ticks\":\"\",\"zerolinecolor\":\"white\",\"gridwidth\":2},\"yaxis\":{\"backgroundcolor\":\"#E5ECF6\",\"gridcolor\":\"white\",\"linecolor\":\"white\",\"showbackground\":true,\"ticks\":\"\",\"zerolinecolor\":\"white\",\"gridwidth\":2},\"zaxis\":{\"backgroundcolor\":\"#E5ECF6\",\"gridcolor\":\"white\",\"linecolor\":\"white\",\"showbackground\":true,\"ticks\":\"\",\"zerolinecolor\":\"white\",\"gridwidth\":2}},\"shapedefaults\":{\"line\":{\"color\":\"#2a3f5f\"}},\"annotationdefaults\":{\"arrowcolor\":\"#2a3f5f\",\"arrowhead\":0,\"arrowwidth\":1},\"geo\":{\"bgcolor\":\"white\",\"landcolor\":\"#E5ECF6\",\"subunitcolor\":\"white\",\"showland\":true,\"showlakes\":true,\"lakecolor\":\"white\"},\"title\":{\"x\":0.05},\"mapbox\":{\"style\":\"light\"}}},\"xaxis\":{\"anchor\":\"y\",\"domain\":[0.0,1.0],\"title\":{\"text\":\"HP\",\"font\":{\"color\":\"black\",\"size\":17}}},\"yaxis\":{\"anchor\":\"x\",\"domain\":[0.0,0.8316],\"title\":{\"text\":\"Count\",\"font\":{\"color\":\"black\",\"size\":17}}},\"xaxis2\":{\"anchor\":\"y2\",\"domain\":[0.0,1.0],\"matches\":\"x\",\"showticklabels\":false,\"showgrid\":true},\"yaxis2\":{\"anchor\":\"x2\",\"domain\":[0.8416,1.0],\"matches\":\"y2\",\"showticklabels\":false,\"showline\":false,\"ticks\":\"\",\"showgrid\":false},\"legend\":{\"tracegroupgap\":0},\"margin\":{\"t\":60},\"barmode\":\"relative\",\"title\":{\"text\":\"Distribution of HP\",\"font\":{\"family\":\"Sitka Small\",\"color\":\"Black\",\"size\":22}}},                        {\"responsive\": true}                    ).then(function(){\n",
       "                            \n",
       "var gd = document.getElementById('6dec7a80-7035-4ac9-a04c-e0163eb0adeb');\n",
       "var x = new MutationObserver(function (mutations, observer) {{\n",
       "        var display = window.getComputedStyle(gd).display;\n",
       "        if (!display || display === 'none') {{\n",
       "            console.log([gd, 'removed!']);\n",
       "            Plotly.purge(gd);\n",
       "            observer.disconnect();\n",
       "        }}\n",
       "}});\n",
       "\n",
       "// Listen for the removal of the full notebook cells\n",
       "var notebookContainer = gd.closest('#notebook-container');\n",
       "if (notebookContainer) {{\n",
       "    x.observe(notebookContainer, {childList: true});\n",
       "}}\n",
       "\n",
       "// Listen for the clearing of the current output cell\n",
       "var outputEl = gd.closest('.output');\n",
       "if (outputEl) {{\n",
       "    x.observe(outputEl, {childList: true});\n",
       "}}\n",
       "\n",
       "                        })                };                });            </script>        </div>"
      ]
     },
     "metadata": {},
     "output_type": "display_data"
    }
   ],
   "source": [
    "# distribution plot function\n",
    "def dist_plt(df, skill):\n",
    "    # Create the distribution plot using Plotly\n",
    "    fig = px.histogram(df,x=skill,\n",
    "                   nbins=30, marginal='rug', \n",
    "                   labels={'value': skill})\n",
    "    \n",
    "    # update the layout\n",
    "    fig.update_layout(title=f'Distribution of {skill}',\n",
    "                  xaxis_title=skill,\n",
    "                  yaxis_title='Count',\n",
    "                  title_font_family=\"Sitka Small\",\n",
    "                  title_font_color=\"Black\",\n",
    "                  title_font_size=22,\n",
    "                  xaxis_title_font_color='black',\n",
    "                  xaxis_title_font_size=17,\n",
    "                  yaxis_title_font_color='black',\n",
    "                  yaxis_title_font_size=17\n",
    "                 )\n",
    "    # Show the plot\n",
    "    fig.show()\n",
    "\n",
    "dist_plt(df, 'HP') "
   ]
  },
  {
   "cell_type": "markdown",
   "id": "d617f209",
   "metadata": {
    "papermill": {
     "duration": 0.007858,
     "end_time": "2023-07-12T14:07:14.156288",
     "exception": false,
     "start_time": "2023-07-12T14:07:14.148430",
     "status": "completed"
    },
    "tags": []
   },
   "source": [
    "### 3. Scatter plot of attack VS defense"
   ]
  },
  {
   "cell_type": "code",
   "execution_count": 9,
   "id": "5ce1c74d",
   "metadata": {
    "execution": {
     "iopub.execute_input": "2023-07-12T14:07:14.190214Z",
     "iopub.status.busy": "2023-07-12T14:07:14.189804Z",
     "iopub.status.idle": "2023-07-12T14:07:14.341630Z",
     "shell.execute_reply": "2023-07-12T14:07:14.340453Z"
    },
    "papermill": {
     "duration": 0.164159,
     "end_time": "2023-07-12T14:07:14.344406",
     "exception": false,
     "start_time": "2023-07-12T14:07:14.180247",
     "status": "completed"
    },
    "tags": []
   },
   "outputs": [
    {
     "data": {
      "text/html": [
       "<div>                            <div id=\"1ec9c8c9-76c2-496b-8e43-0723b12286a0\" class=\"plotly-graph-div\" style=\"height:525px; width:100%;\"></div>            <script type=\"text/javascript\">                require([\"plotly\"], function(Plotly) {                    window.PLOTLYENV=window.PLOTLYENV || {};                                    if (document.getElementById(\"1ec9c8c9-76c2-496b-8e43-0723b12286a0\")) {                    Plotly.newPlot(                        \"1ec9c8c9-76c2-496b-8e43-0723b12286a0\",                        [{\"customdata\":[[\"Bulbasaur\",\"Grass\"],[\"Ivysaur\",\"Grass\"],[\"Venusaur\",\"Grass\"],[\"Venusaur Mega Venusaur\",\"Grass\"],[\"Charmander\",\"Fire\"],[\"Charmeleon\",\"Fire\"],[\"Charizard\",\"Fire\"],[\"Charizard Mega Charizard X\",\"Fire\"],[\"Charizard Mega Charizard Y\",\"Fire\"],[\"Squirtle\",\"Water\"],[\"Wartortle\",\"Water\"],[\"Blastoise\",\"Water\"],[\"Blastoise Mega Blastoise\",\"Water\"],[\"Caterpie\",\"Bug\"],[\"Metapod\",\"Bug\"],[\"Butterfree\",\"Bug\"],[\"Weedle\",\"Bug\"],[\"Kakuna\",\"Bug\"],[\"Beedrill\",\"Bug\"],[\"Beedrill Mega Beedrill\",\"Bug\"],[\"Pidgey\",\"Normal\"],[\"Pidgeotto\",\"Normal\"],[\"Pidgeot\",\"Normal\"],[\"Pidgeot Mega Pidgeot\",\"Normal\"],[\"Rattata\",\"Normal\"],[\"Rattata Alolan Rattata\",\"Dark\"],[\"Raticate\",\"Normal\"],[\"Raticate Alolan Raticate\",\"Dark\"],[\"Spearow\",\"Normal\"],[\"Fearow\",\"Normal\"],[\"Ekans\",\"Poison\"],[\"Arbok\",\"Poison\"],[\"Pikachu\",\"Electric\"],[\"Pikachu Partner Pikachu\",\"Electric\"],[\"Raichu\",\"Electric\"],[\"Raichu Alolan Raichu\",\"Electric\"],[\"Sandshrew\",\"Ground\"],[\"Sandshrew Alolan Sandshrew\",\"Ice\"],[\"Sandslash\",\"Ground\"],[\"Sandslash Alolan Sandslash\",\"Ice\"],[\"Nidoran♀\",\"Poison\"],[\"Nidorina\",\"Poison\"],[\"Nidoqueen\",\"Poison\"],[\"Nidoran♂\",\"Poison\"],[\"Nidorino\",\"Poison\"],[\"Nidoking\",\"Poison\"],[\"Clefairy\",\"Fairy\"],[\"Clefable\",\"Fairy\"],[\"Vulpix\",\"Fire\"],[\"Vulpix Alolan Vulpix\",\"Ice\"],[\"Ninetales\",\"Fire\"],[\"Ninetales Alolan Ninetales\",\"Ice\"],[\"Jigglypuff\",\"Normal\"],[\"Wigglytuff\",\"Normal\"],[\"Zubat\",\"Poison\"],[\"Golbat\",\"Poison\"],[\"Oddish\",\"Grass\"],[\"Gloom\",\"Grass\"],[\"Vileplume\",\"Grass\"],[\"Paras\",\"Bug\"],[\"Parasect\",\"Bug\"],[\"Venonat\",\"Bug\"],[\"Venomoth\",\"Bug\"],[\"Diglett\",\"Ground\"],[\"Diglett Alolan Diglett\",\"Ground\"],[\"Dugtrio\",\"Ground\"],[\"Dugtrio Alolan Dugtrio\",\"Ground\"],[\"Meowth\",\"Normal\"],[\"Meowth Alolan Meowth\",\"Dark\"],[\"Meowth Galarian Meowth\",\"Steel\"],[\"Persian\",\"Normal\"],[\"Persian Alolan Persian\",\"Dark\"],[\"Psyduck\",\"Water\"],[\"Golduck\",\"Water\"],[\"Mankey\",\"Fighting\"],[\"Primeape\",\"Fighting\"],[\"Growlithe\",\"Fire\"],[\"Growlithe Hisuian Growlithe\",\"Fire\"],[\"Arcanine\",\"Fire\"],[\"Arcanine Hisuian Arcanine\",\"Fire\"],[\"Poliwag\",\"Water\"],[\"Poliwhirl\",\"Water\"],[\"Poliwrath\",\"Water\"],[\"Abra\",\"Psychic\"],[\"Kadabra\",\"Psychic\"],[\"Alakazam\",\"Psychic\"],[\"Alakazam Mega Alakazam\",\"Psychic\"],[\"Machop\",\"Fighting\"],[\"Machoke\",\"Fighting\"],[\"Machamp\",\"Fighting\"],[\"Bellsprout\",\"Grass\"],[\"Weepinbell\",\"Grass\"],[\"Victreebel\",\"Grass\"],[\"Tentacool\",\"Water\"],[\"Tentacruel\",\"Water\"],[\"Geodude\",\"Rock\"],[\"Geodude Alolan Geodude\",\"Rock\"],[\"Graveler\",\"Rock\"],[\"Graveler Alolan Graveler\",\"Rock\"],[\"Golem\",\"Rock\"],[\"Golem Alolan Golem\",\"Rock\"],[\"Ponyta\",\"Fire\"],[\"Ponyta Galarian Ponyta\",\"Psychic\"],[\"Rapidash\",\"Fire\"],[\"Rapidash Galarian Rapidash\",\"Psychic\"],[\"Slowpoke\",\"Water\"],[\"Slowpoke Galarian Slowpoke\",\"Psychic\"],[\"Slowbro\",\"Water\"],[\"Slowbro Mega Slowbro\",\"Water\"],[\"Slowbro Galarian Slowbro\",\"Poison\"],[\"Magnemite\",\"Electric\"],[\"Magneton\",\"Electric\"],[\"Farfetch'd\",\"Normal\"],[\"Farfetch'd Galarian Farfetch'd\",\"Fighting\"],[\"Doduo\",\"Normal\"],[\"Dodrio\",\"Normal\"],[\"Seel\",\"Water\"],[\"Dewgong\",\"Water\"],[\"Grimer\",\"Poison\"],[\"Grimer Alolan Grimer\",\"Poison\"],[\"Muk\",\"Poison\"],[\"Muk Alolan Muk\",\"Poison\"],[\"Shellder\",\"Water\"],[\"Cloyster\",\"Water\"],[\"Gastly\",\"Ghost\"],[\"Haunter\",\"Ghost\"],[\"Gengar\",\"Ghost\"],[\"Gengar Mega Gengar\",\"Ghost\"],[\"Onix\",\"Rock\"],[\"Drowzee\",\"Psychic\"],[\"Hypno\",\"Psychic\"],[\"Krabby\",\"Water\"],[\"Kingler\",\"Water\"],[\"Voltorb\",\"Electric\"],[\"Voltorb Hisuian Voltorb\",\"Electric\"],[\"Electrode\",\"Electric\"],[\"Electrode Hisuian Electrode\",\"Electric\"],[\"Exeggcute\",\"Grass\"],[\"Exeggutor\",\"Grass\"],[\"Exeggutor Alolan Exeggutor\",\"Grass\"],[\"Cubone\",\"Ground\"],[\"Marowak\",\"Ground\"],[\"Marowak Alolan Marowak\",\"Fire\"],[\"Hitmonlee\",\"Fighting\"],[\"Hitmonchan\",\"Fighting\"],[\"Lickitung\",\"Normal\"],[\"Koffing\",\"Poison\"],[\"Weezing\",\"Poison\"],[\"Weezing Galarian Weezing\",\"Poison\"],[\"Rhyhorn\",\"Ground\"],[\"Rhydon\",\"Ground\"],[\"Chansey\",\"Normal\"],[\"Tangela\",\"Grass\"],[\"Kangaskhan\",\"Normal\"],[\"Kangaskhan Mega Kangaskhan\",\"Normal\"],[\"Horsea\",\"Water\"],[\"Seadra\",\"Water\"],[\"Goldeen\",\"Water\"],[\"Seaking\",\"Water\"],[\"Staryu\",\"Water\"],[\"Starmie\",\"Water\"],[\"Mr. Mime\",\"Psychic\"],[\"Mr. Mime Galarian Mr. Mime\",\"Ice\"],[\"Scyther\",\"Bug\"],[\"Jynx\",\"Ice\"],[\"Electabuzz\",\"Electric\"],[\"Magmar\",\"Fire\"],[\"Pinsir\",\"Bug\"],[\"Pinsir Mega Pinsir\",\"Bug\"],[\"Tauros\",\"Normal\"],[\"Tauros Combat Breed\",\"Fighting\"],[\"Tauros Blaze Breed\",\"Fighting\"],[\"Tauros Aqua Breed\",\"Fighting\"],[\"Magikarp\",\"Water\"],[\"Gyarados\",\"Water\"],[\"Gyarados Mega Gyarados\",\"Water\"],[\"Lapras\",\"Water\"],[\"Ditto\",\"Normal\"],[\"Eevee\",\"Normal\"],[\"Eevee Partner Eevee\",\"Normal\"],[\"Vaporeon\",\"Water\"],[\"Jolteon\",\"Electric\"],[\"Flareon\",\"Fire\"],[\"Porygon\",\"Normal\"],[\"Omanyte\",\"Rock\"],[\"Omastar\",\"Rock\"],[\"Kabuto\",\"Rock\"],[\"Kabutops\",\"Rock\"],[\"Aerodactyl\",\"Rock\"],[\"Aerodactyl Mega Aerodactyl\",\"Rock\"],[\"Snorlax\",\"Normal\"],[\"Articuno\",\"Ice\"],[\"Articuno Galarian Articuno\",\"Psychic\"],[\"Zapdos\",\"Electric\"],[\"Zapdos Galarian Zapdos\",\"Fighting\"],[\"Moltres\",\"Fire\"],[\"Moltres Galarian Moltres\",\"Dark\"],[\"Dratini\",\"Dragon\"],[\"Dragonair\",\"Dragon\"],[\"Dragonite\",\"Dragon\"],[\"Mewtwo\",\"Psychic\"],[\"Mewtwo Mega Mewtwo X\",\"Psychic\"],[\"Mewtwo Mega Mewtwo Y\",\"Psychic\"],[\"Mew\",\"Psychic\"],[\"Chikorita\",\"Grass\"],[\"Bayleef\",\"Grass\"],[\"Meganium\",\"Grass\"],[\"Cyndaquil\",\"Fire\"],[\"Quilava\",\"Fire\"],[\"Typhlosion\",\"Fire\"],[\"Typhlosion Hisuian Typhlosion\",\"Fire\"],[\"Totodile\",\"Water\"],[\"Croconaw\",\"Water\"],[\"Feraligatr\",\"Water\"],[\"Sentret\",\"Normal\"],[\"Furret\",\"Normal\"],[\"Hoothoot\",\"Normal\"],[\"Noctowl\",\"Normal\"],[\"Ledyba\",\"Bug\"],[\"Ledian\",\"Bug\"],[\"Spinarak\",\"Bug\"],[\"Ariados\",\"Bug\"],[\"Crobat\",\"Poison\"],[\"Chinchou\",\"Water\"],[\"Lanturn\",\"Water\"],[\"Pichu\",\"Electric\"],[\"Cleffa\",\"Fairy\"],[\"Igglybuff\",\"Normal\"],[\"Togepi\",\"Fairy\"],[\"Togetic\",\"Fairy\"],[\"Natu\",\"Psychic\"],[\"Xatu\",\"Psychic\"],[\"Mareep\",\"Electric\"],[\"Flaaffy\",\"Electric\"],[\"Ampharos\",\"Electric\"],[\"Ampharos Mega Ampharos\",\"Electric\"],[\"Bellossom\",\"Grass\"],[\"Marill\",\"Water\"],[\"Azumarill\",\"Water\"],[\"Sudowoodo\",\"Rock\"],[\"Politoed\",\"Water\"],[\"Hoppip\",\"Grass\"],[\"Skiploom\",\"Grass\"],[\"Jumpluff\",\"Grass\"],[\"Aipom\",\"Normal\"],[\"Sunkern\",\"Grass\"],[\"Sunflora\",\"Grass\"],[\"Yanma\",\"Bug\"],[\"Wooper\",\"Water\"],[\"Wooper Paldean Wooper\",\"Poison\"],[\"Quagsire\",\"Water\"],[\"Espeon\",\"Psychic\"],[\"Umbreon\",\"Dark\"],[\"Murkrow\",\"Dark\"],[\"Slowking\",\"Water\"],[\"Slowking Galarian Slowking\",\"Poison\"],[\"Misdreavus\",\"Ghost\"],[\"Unown\",\"Psychic\"],[\"Wobbuffet\",\"Psychic\"],[\"Girafarig\",\"Normal\"],[\"Pineco\",\"Bug\"],[\"Forretress\",\"Bug\"],[\"Dunsparce\",\"Normal\"],[\"Gligar\",\"Ground\"],[\"Steelix\",\"Steel\"],[\"Steelix Mega Steelix\",\"Steel\"],[\"Snubbull\",\"Fairy\"],[\"Granbull\",\"Fairy\"],[\"Qwilfish\",\"Water\"],[\"Qwilfish Hisuian Qwilfish\",\"Dark\"],[\"Scizor\",\"Bug\"],[\"Scizor Mega Scizor\",\"Bug\"],[\"Shuckle\",\"Bug\"],[\"Heracross\",\"Bug\"],[\"Heracross Mega Heracross\",\"Bug\"],[\"Sneasel\",\"Dark\"],[\"Sneasel Hisuian Sneasel\",\"Fighting\"],[\"Teddiursa\",\"Normal\"],[\"Ursaring\",\"Normal\"],[\"Slugma\",\"Fire\"],[\"Magcargo\",\"Fire\"],[\"Swinub\",\"Ice\"],[\"Piloswine\",\"Ice\"],[\"Corsola\",\"Water\"],[\"Corsola Galarian Corsola\",\"Ghost\"],[\"Remoraid\",\"Water\"],[\"Octillery\",\"Water\"],[\"Delibird\",\"Ice\"],[\"Mantine\",\"Water\"],[\"Skarmory\",\"Steel\"],[\"Houndour\",\"Dark\"],[\"Houndoom\",\"Dark\"],[\"Houndoom Mega Houndoom\",\"Dark\"],[\"Kingdra\",\"Water\"],[\"Phanpy\",\"Ground\"],[\"Donphan\",\"Ground\"],[\"Porygon2\",\"Normal\"],[\"Stantler\",\"Normal\"],[\"Smeargle\",\"Normal\"],[\"Tyrogue\",\"Fighting\"],[\"Hitmontop\",\"Fighting\"],[\"Smoochum\",\"Ice\"],[\"Elekid\",\"Electric\"],[\"Magby\",\"Fire\"],[\"Miltank\",\"Normal\"],[\"Blissey\",\"Normal\"],[\"Raikou\",\"Electric\"],[\"Entei\",\"Fire\"],[\"Suicune\",\"Water\"],[\"Larvitar\",\"Rock\"],[\"Pupitar\",\"Rock\"],[\"Tyranitar\",\"Rock\"],[\"Tyranitar Mega Tyranitar\",\"Rock\"],[\"Lugia\",\"Psychic\"],[\"Ho-oh\",\"Fire\"],[\"Celebi\",\"Psychic\"],[\"Treecko\",\"Grass\"],[\"Grovyle\",\"Grass\"],[\"Sceptile\",\"Grass\"],[\"Sceptile Mega Sceptile\",\"Grass\"],[\"Torchic\",\"Fire\"],[\"Combusken\",\"Fire\"],[\"Blaziken\",\"Fire\"],[\"Blaziken Mega Blaziken\",\"Fire\"],[\"Mudkip\",\"Water\"],[\"Marshtomp\",\"Water\"],[\"Swampert\",\"Water\"],[\"Swampert Mega Swampert\",\"Water\"],[\"Poochyena\",\"Dark\"],[\"Mightyena\",\"Dark\"],[\"Zigzagoon\",\"Normal\"],[\"Zigzagoon Galarian Zigzagoon\",\"Dark\"],[\"Linoone\",\"Normal\"],[\"Linoone Galarian Linoone\",\"Dark\"],[\"Wurmple\",\"Bug\"],[\"Silcoon\",\"Bug\"],[\"Beautifly\",\"Bug\"],[\"Cascoon\",\"Bug\"],[\"Dustox\",\"Bug\"],[\"Lotad\",\"Water\"],[\"Lombre\",\"Water\"],[\"Ludicolo\",\"Water\"],[\"Seedot\",\"Grass\"],[\"Nuzleaf\",\"Grass\"],[\"Shiftry\",\"Grass\"],[\"Taillow\",\"Normal\"],[\"Swellow\",\"Normal\"],[\"Wingull\",\"Water\"],[\"Pelipper\",\"Water\"],[\"Ralts\",\"Psychic\"],[\"Kirlia\",\"Psychic\"],[\"Gardevoir\",\"Psychic\"],[\"Gardevoir Mega Gardevoir\",\"Psychic\"],[\"Surskit\",\"Bug\"],[\"Masquerain\",\"Bug\"],[\"Shroomish\",\"Grass\"],[\"Breloom\",\"Grass\"],[\"Slakoth\",\"Normal\"],[\"Vigoroth\",\"Normal\"],[\"Slaking\",\"Normal\"],[\"Nincada\",\"Bug\"],[\"Ninjask\",\"Bug\"],[\"Shedinja\",\"Bug\"],[\"Whismur\",\"Normal\"],[\"Loudred\",\"Normal\"],[\"Exploud\",\"Normal\"],[\"Makuhita\",\"Fighting\"],[\"Hariyama\",\"Fighting\"],[\"Azurill\",\"Normal\"],[\"Nosepass\",\"Rock\"],[\"Skitty\",\"Normal\"],[\"Delcatty\",\"Normal\"],[\"Sableye\",\"Dark\"],[\"Sableye Mega Sableye\",\"Dark\"],[\"Mawile\",\"Steel\"],[\"Mawile Mega Mawile\",\"Steel\"],[\"Aron\",\"Steel\"],[\"Lairon\",\"Steel\"],[\"Aggron\",\"Steel\"],[\"Aggron Mega Aggron\",\"Steel\"],[\"Meditite\",\"Fighting\"],[\"Medicham\",\"Fighting\"],[\"Medicham Mega Medicham\",\"Fighting\"],[\"Electrike\",\"Electric\"],[\"Manectric\",\"Electric\"],[\"Manectric Mega Manectric\",\"Electric\"],[\"Plusle\",\"Electric\"],[\"Minun\",\"Electric\"],[\"Volbeat\",\"Bug\"],[\"Illumise\",\"Bug\"],[\"Roselia\",\"Grass\"],[\"Gulpin\",\"Poison\"],[\"Swalot\",\"Poison\"],[\"Carvanha\",\"Water\"],[\"Sharpedo\",\"Water\"],[\"Sharpedo Mega Sharpedo\",\"Water\"],[\"Wailmer\",\"Water\"],[\"Wailord\",\"Water\"],[\"Numel\",\"Fire\"],[\"Camerupt\",\"Fire\"],[\"Camerupt Mega Camerupt\",\"Fire\"],[\"Torkoal\",\"Fire\"],[\"Spoink\",\"Psychic\"],[\"Grumpig\",\"Psychic\"],[\"Spinda\",\"Normal\"],[\"Trapinch\",\"Ground\"],[\"Vibrava\",\"Ground\"],[\"Flygon\",\"Ground\"],[\"Cacnea\",\"Grass\"],[\"Cacturne\",\"Grass\"],[\"Swablu\",\"Normal\"],[\"Altaria\",\"Dragon\"],[\"Altaria Mega Altaria\",\"Dragon\"],[\"Zangoose\",\"Normal\"],[\"Seviper\",\"Poison\"],[\"Lunatone\",\"Rock\"],[\"Solrock\",\"Rock\"],[\"Barboach\",\"Water\"],[\"Whiscash\",\"Water\"],[\"Corphish\",\"Water\"],[\"Crawdaunt\",\"Water\"],[\"Baltoy\",\"Ground\"],[\"Claydol\",\"Ground\"],[\"Lileep\",\"Rock\"],[\"Cradily\",\"Rock\"],[\"Anorith\",\"Rock\"],[\"Armaldo\",\"Rock\"],[\"Feebas\",\"Water\"],[\"Milotic\",\"Water\"],[\"Castform\",\"Normal\"],[\"Castform Sunny Form\",\"Fire\"],[\"Castform Rainy Form\",\"Water\"],[\"Castform Snowy Form\",\"Ice\"],[\"Kecleon\",\"Normal\"],[\"Shuppet\",\"Ghost\"],[\"Banette\",\"Ghost\"],[\"Banette Mega Banette\",\"Ghost\"],[\"Duskull\",\"Ghost\"],[\"Dusclops\",\"Ghost\"],[\"Tropius\",\"Grass\"],[\"Chimecho\",\"Psychic\"],[\"Absol\",\"Dark\"],[\"Absol Mega Absol\",\"Dark\"],[\"Wynaut\",\"Psychic\"],[\"Snorunt\",\"Ice\"],[\"Glalie\",\"Ice\"],[\"Glalie Mega Glalie\",\"Ice\"],[\"Spheal\",\"Ice\"],[\"Sealeo\",\"Ice\"],[\"Walrein\",\"Ice\"],[\"Clamperl\",\"Water\"],[\"Huntail\",\"Water\"],[\"Gorebyss\",\"Water\"],[\"Relicanth\",\"Water\"],[\"Luvdisc\",\"Water\"],[\"Bagon\",\"Dragon\"],[\"Shelgon\",\"Dragon\"],[\"Salamence\",\"Dragon\"],[\"Salamence Mega Salamence\",\"Dragon\"],[\"Beldum\",\"Steel\"],[\"Metang\",\"Steel\"],[\"Metagross\",\"Steel\"],[\"Metagross Mega Metagross\",\"Steel\"],[\"Regirock\",\"Rock\"],[\"Regice\",\"Ice\"],[\"Registeel\",\"Steel\"],[\"Latias\",\"Dragon\"],[\"Latias Mega Latias\",\"Dragon\"],[\"Latios\",\"Dragon\"],[\"Latios Mega Latios\",\"Dragon\"],[\"Kyogre\",\"Water\"],[\"Kyogre Primal Kyogre\",\"Water\"],[\"Groudon\",\"Ground\"],[\"Groudon Primal Groudon\",\"Ground\"],[\"Rayquaza\",\"Dragon\"],[\"Rayquaza Mega Rayquaza\",\"Dragon\"],[\"Jirachi\",\"Steel\"],[\"Deoxys Normal Forme\",\"Psychic\"],[\"Deoxys Attack Forme\",\"Psychic\"],[\"Deoxys Defense Forme\",\"Psychic\"],[\"Deoxys Speed Forme\",\"Psychic\"],[\"Turtwig\",\"Grass\"],[\"Grotle\",\"Grass\"],[\"Torterra\",\"Grass\"],[\"Chimchar\",\"Fire\"],[\"Monferno\",\"Fire\"],[\"Infernape\",\"Fire\"],[\"Piplup\",\"Water\"],[\"Prinplup\",\"Water\"],[\"Empoleon\",\"Water\"],[\"Starly\",\"Normal\"],[\"Staravia\",\"Normal\"],[\"Staraptor\",\"Normal\"],[\"Bidoof\",\"Normal\"],[\"Bibarel\",\"Normal\"],[\"Kricketot\",\"Bug\"],[\"Kricketune\",\"Bug\"],[\"Shinx\",\"Electric\"],[\"Luxio\",\"Electric\"],[\"Luxray\",\"Electric\"],[\"Budew\",\"Grass\"],[\"Roserade\",\"Grass\"],[\"Cranidos\",\"Rock\"],[\"Rampardos\",\"Rock\"],[\"Shieldon\",\"Rock\"],[\"Bastiodon\",\"Rock\"],[\"Burmy Plant Cloak\",\"Bug\"],[\"Burmy Sandy Cloak\",\"Bug\"],[\"Burmy Trash Cloak\",\"Bug\"],[\"Wormadam Plant Cloak\",\"Bug\"],[\"Wormadam Sandy Cloak\",\"Bug\"],[\"Wormadam Trash Cloak\",\"Bug\"],[\"Mothim\",\"Bug\"],[\"Combee\",\"Bug\"],[\"Vespiquen\",\"Bug\"],[\"Pachirisu\",\"Electric\"],[\"Buizel\",\"Water\"],[\"Floatzel\",\"Water\"],[\"Cherubi\",\"Grass\"],[\"Cherrim\",\"Grass\"],[\"Shellos\",\"Water\"],[\"Gastrodon\",\"Water\"],[\"Ambipom\",\"Normal\"],[\"Drifloon\",\"Ghost\"],[\"Drifblim\",\"Ghost\"],[\"Buneary\",\"Normal\"],[\"Lopunny\",\"Normal\"],[\"Lopunny Mega Lopunny\",\"Normal\"],[\"Mismagius\",\"Ghost\"],[\"Honchkrow\",\"Dark\"],[\"Glameow\",\"Normal\"],[\"Purugly\",\"Normal\"],[\"Chingling\",\"Psychic\"],[\"Stunky\",\"Poison\"],[\"Skuntank\",\"Poison\"],[\"Bronzor\",\"Steel\"],[\"Bronzong\",\"Steel\"],[\"Bonsly\",\"Rock\"],[\"Mime Jr.\",\"Psychic\"],[\"Happiny\",\"Normal\"],[\"Chatot\",\"Normal\"],[\"Spiritomb\",\"Ghost\"],[\"Gible\",\"Dragon\"],[\"Gabite\",\"Dragon\"],[\"Garchomp\",\"Dragon\"],[\"Garchomp Mega Garchomp\",\"Dragon\"],[\"Munchlax\",\"Normal\"],[\"Riolu\",\"Fighting\"],[\"Lucario\",\"Fighting\"],[\"Lucario Mega Lucario\",\"Fighting\"],[\"Hippopotas\",\"Ground\"],[\"Hippowdon\",\"Ground\"],[\"Skorupi\",\"Poison\"],[\"Drapion\",\"Poison\"],[\"Croagunk\",\"Poison\"],[\"Toxicroak\",\"Poison\"],[\"Carnivine\",\"Grass\"],[\"Finneon\",\"Water\"],[\"Lumineon\",\"Water\"],[\"Mantyke\",\"Water\"],[\"Snover\",\"Grass\"],[\"Abomasnow\",\"Grass\"],[\"Abomasnow Mega Abomasnow\",\"Grass\"],[\"Weavile\",\"Dark\"],[\"Magnezone\",\"Electric\"],[\"Lickilicky\",\"Normal\"],[\"Rhyperior\",\"Ground\"],[\"Tangrowth\",\"Grass\"],[\"Electivire\",\"Electric\"],[\"Magmortar\",\"Fire\"],[\"Togekiss\",\"Fairy\"],[\"Yanmega\",\"Bug\"],[\"Leafeon\",\"Grass\"],[\"Glaceon\",\"Ice\"],[\"Gliscor\",\"Ground\"],[\"Mamoswine\",\"Ice\"],[\"Porygon-Z\",\"Normal\"],[\"Gallade\",\"Psychic\"],[\"Gallade Mega Gallade\",\"Psychic\"],[\"Probopass\",\"Rock\"],[\"Dusknoir\",\"Ghost\"],[\"Froslass\",\"Ice\"],[\"Rotom\",\"Electric\"],[\"Rotom Heat Rotom\",\"Electric\"],[\"Rotom Wash Rotom\",\"Electric\"],[\"Rotom Frost Rotom\",\"Electric\"],[\"Rotom Fan Rotom\",\"Electric\"],[\"Rotom Mow Rotom\",\"Electric\"],[\"Uxie\",\"Psychic\"],[\"Mesprit\",\"Psychic\"],[\"Azelf\",\"Psychic\"],[\"Dialga\",\"Steel\"],[\"Dialga Origin Forme\",\"Steel\"],[\"Palkia\",\"Water\"],[\"Palkia Origin Forme\",\"Water\"],[\"Heatran\",\"Fire\"],[\"Regigigas\",\"Normal\"],[\"Giratina Altered Forme\",\"Ghost\"],[\"Giratina Origin Forme\",\"Ghost\"],[\"Cresselia\",\"Psychic\"],[\"Phione\",\"Water\"],[\"Manaphy\",\"Water\"],[\"Darkrai\",\"Dark\"],[\"Shaymin Land Forme\",\"Grass\"],[\"Shaymin Sky Forme\",\"Grass\"],[\"Arceus\",\"Normal\"],[\"Victini\",\"Psychic\"],[\"Snivy\",\"Grass\"],[\"Servine\",\"Grass\"],[\"Serperior\",\"Grass\"],[\"Tepig\",\"Fire\"],[\"Pignite\",\"Fire\"],[\"Emboar\",\"Fire\"],[\"Oshawott\",\"Water\"],[\"Dewott\",\"Water\"],[\"Samurott\",\"Water\"],[\"Samurott Hisuian Samurott\",\"Water\"],[\"Patrat\",\"Normal\"],[\"Watchog\",\"Normal\"],[\"Lillipup\",\"Normal\"],[\"Herdier\",\"Normal\"],[\"Stoutland\",\"Normal\"],[\"Purrloin\",\"Dark\"],[\"Liepard\",\"Dark\"],[\"Pansage\",\"Grass\"],[\"Simisage\",\"Grass\"],[\"Pansear\",\"Fire\"],[\"Simisear\",\"Fire\"],[\"Panpour\",\"Water\"],[\"Simipour\",\"Water\"],[\"Munna\",\"Psychic\"],[\"Musharna\",\"Psychic\"],[\"Pidove\",\"Normal\"],[\"Tranquill\",\"Normal\"],[\"Unfezant\",\"Normal\"],[\"Blitzle\",\"Electric\"],[\"Zebstrika\",\"Electric\"],[\"Roggenrola\",\"Rock\"],[\"Boldore\",\"Rock\"],[\"Gigalith\",\"Rock\"],[\"Woobat\",\"Psychic\"],[\"Swoobat\",\"Psychic\"],[\"Drilbur\",\"Ground\"],[\"Excadrill\",\"Ground\"],[\"Audino\",\"Normal\"],[\"Audino Mega Audino\",\"Normal\"],[\"Timburr\",\"Fighting\"],[\"Gurdurr\",\"Fighting\"],[\"Conkeldurr\",\"Fighting\"],[\"Tympole\",\"Water\"],[\"Palpitoad\",\"Water\"],[\"Seismitoad\",\"Water\"],[\"Throh\",\"Fighting\"],[\"Sawk\",\"Fighting\"],[\"Sewaddle\",\"Bug\"],[\"Swadloon\",\"Bug\"],[\"Leavanny\",\"Bug\"],[\"Venipede\",\"Bug\"],[\"Whirlipede\",\"Bug\"],[\"Scolipede\",\"Bug\"],[\"Cottonee\",\"Grass\"],[\"Whimsicott\",\"Grass\"],[\"Petilil\",\"Grass\"],[\"Lilligant\",\"Grass\"],[\"Lilligant Hisuian Lilligant\",\"Grass\"],[\"Basculin Red-Striped Form\",\"Water\"],[\"Basculin Blue-Striped Form\",\"Water\"],[\"Basculin White-Striped Form\",\"Water\"],[\"Sandile\",\"Ground\"],[\"Krokorok\",\"Ground\"],[\"Krookodile\",\"Ground\"],[\"Darumaka\",\"Fire\"],[\"Darumaka Galarian Darumaka\",\"Ice\"],[\"Darmanitan Standard Mode\",\"Fire\"],[\"Darmanitan Zen Mode\",\"Fire\"],[\"Darmanitan Galarian Standard Mode\",\"Ice\"],[\"Darmanitan Galarian Zen Mode\",\"Ice\"],[\"Maractus\",\"Grass\"],[\"Dwebble\",\"Bug\"],[\"Crustle\",\"Bug\"],[\"Scraggy\",\"Dark\"],[\"Scrafty\",\"Dark\"],[\"Sigilyph\",\"Psychic\"],[\"Yamask\",\"Ghost\"],[\"Yamask Galarian Yamask\",\"Ground\"],[\"Cofagrigus\",\"Ghost\"],[\"Tirtouga\",\"Water\"],[\"Carracosta\",\"Water\"],[\"Archen\",\"Rock\"],[\"Archeops\",\"Rock\"],[\"Trubbish\",\"Poison\"],[\"Garbodor\",\"Poison\"],[\"Zorua\",\"Dark\"],[\"Zorua Hisuian Zorua\",\"Normal\"],[\"Zoroark\",\"Dark\"],[\"Zoroark Hisuian Zoroark\",\"Normal\"],[\"Minccino\",\"Normal\"],[\"Cinccino\",\"Normal\"],[\"Gothita\",\"Psychic\"],[\"Gothorita\",\"Psychic\"],[\"Gothitelle\",\"Psychic\"],[\"Solosis\",\"Psychic\"],[\"Duosion\",\"Psychic\"],[\"Reuniclus\",\"Psychic\"],[\"Ducklett\",\"Water\"],[\"Swanna\",\"Water\"],[\"Vanillite\",\"Ice\"],[\"Vanillish\",\"Ice\"],[\"Vanilluxe\",\"Ice\"],[\"Deerling\",\"Normal\"],[\"Sawsbuck\",\"Normal\"],[\"Emolga\",\"Electric\"],[\"Karrablast\",\"Bug\"],[\"Escavalier\",\"Bug\"],[\"Foongus\",\"Grass\"],[\"Amoonguss\",\"Grass\"],[\"Frillish\",\"Water\"],[\"Jellicent\",\"Water\"],[\"Alomomola\",\"Water\"],[\"Joltik\",\"Bug\"],[\"Galvantula\",\"Bug\"],[\"Ferroseed\",\"Grass\"],[\"Ferrothorn\",\"Grass\"],[\"Klink\",\"Steel\"],[\"Klang\",\"Steel\"],[\"Klinklang\",\"Steel\"],[\"Tynamo\",\"Electric\"],[\"Eelektrik\",\"Electric\"],[\"Eelektross\",\"Electric\"],[\"Elgyem\",\"Psychic\"],[\"Beheeyem\",\"Psychic\"],[\"Litwick\",\"Ghost\"],[\"Lampent\",\"Ghost\"],[\"Chandelure\",\"Ghost\"],[\"Axew\",\"Dragon\"],[\"Fraxure\",\"Dragon\"],[\"Haxorus\",\"Dragon\"],[\"Cubchoo\",\"Ice\"],[\"Beartic\",\"Ice\"],[\"Cryogonal\",\"Ice\"],[\"Shelmet\",\"Bug\"],[\"Accelgor\",\"Bug\"],[\"Stunfisk\",\"Ground\"],[\"Stunfisk Galarian Stunfisk\",\"Ground\"],[\"Mienfoo\",\"Fighting\"],[\"Mienshao\",\"Fighting\"],[\"Druddigon\",\"Dragon\"],[\"Golett\",\"Ground\"],[\"Golurk\",\"Ground\"],[\"Pawniard\",\"Dark\"],[\"Bisharp\",\"Dark\"],[\"Bouffalant\",\"Normal\"],[\"Rufflet\",\"Normal\"],[\"Braviary\",\"Normal\"],[\"Braviary Hisuian Braviary\",\"Psychic\"],[\"Vullaby\",\"Dark\"],[\"Mandibuzz\",\"Dark\"],[\"Heatmor\",\"Fire\"],[\"Durant\",\"Bug\"],[\"Deino\",\"Dark\"],[\"Zweilous\",\"Dark\"],[\"Hydreigon\",\"Dark\"],[\"Larvesta\",\"Bug\"],[\"Volcarona\",\"Bug\"],[\"Cobalion\",\"Steel\"],[\"Terrakion\",\"Rock\"],[\"Virizion\",\"Grass\"],[\"Tornadus Incarnate Forme\",\"Flying\"],[\"Tornadus Therian Forme\",\"Flying\"],[\"Thundurus Incarnate Forme\",\"Electric\"],[\"Thundurus Therian Forme\",\"Electric\"],[\"Reshiram\",\"Dragon\"],[\"Zekrom\",\"Dragon\"],[\"Landorus Incarnate Forme\",\"Ground\"],[\"Landorus Therian Forme\",\"Ground\"],[\"Kyurem\",\"Dragon\"],[\"Kyurem White Kyurem\",\"Dragon\"],[\"Kyurem Black Kyurem\",\"Dragon\"],[\"Keldeo Ordinary Form\",\"Water\"],[\"Keldeo Resolute Form\",\"Water\"],[\"Meloetta Aria Forme\",\"Normal\"],[\"Meloetta Pirouette Forme\",\"Normal\"],[\"Genesect\",\"Bug\"],[\"Chespin\",\"Grass\"],[\"Quilladin\",\"Grass\"],[\"Chesnaught\",\"Grass\"],[\"Fennekin\",\"Fire\"],[\"Braixen\",\"Fire\"],[\"Delphox\",\"Fire\"],[\"Froakie\",\"Water\"],[\"Frogadier\",\"Water\"],[\"Greninja\",\"Water\"],[\"Greninja Ash-Greninja\",\"Water\"],[\"Bunnelby\",\"Normal\"],[\"Diggersby\",\"Normal\"],[\"Fletchling\",\"Normal\"],[\"Fletchinder\",\"Fire\"],[\"Talonflame\",\"Fire\"],[\"Scatterbug\",\"Bug\"],[\"Spewpa\",\"Bug\"],[\"Vivillon\",\"Bug\"],[\"Litleo\",\"Fire\"],[\"Pyroar\",\"Fire\"],[\"Flabébé\",\"Fairy\"],[\"Floette\",\"Fairy\"],[\"Florges\",\"Fairy\"],[\"Skiddo\",\"Grass\"],[\"Gogoat\",\"Grass\"],[\"Pancham\",\"Fighting\"],[\"Pangoro\",\"Fighting\"],[\"Furfrou\",\"Normal\"],[\"Espurr\",\"Psychic\"],[\"Meowstic Male\",\"Psychic\"],[\"Meowstic Female\",\"Psychic\"],[\"Honedge\",\"Steel\"],[\"Doublade\",\"Steel\"],[\"Aegislash Shield Forme\",\"Steel\"],[\"Aegislash Blade Forme\",\"Steel\"],[\"Spritzee\",\"Fairy\"],[\"Aromatisse\",\"Fairy\"],[\"Swirlix\",\"Fairy\"],[\"Slurpuff\",\"Fairy\"],[\"Inkay\",\"Dark\"],[\"Malamar\",\"Dark\"],[\"Binacle\",\"Rock\"],[\"Barbaracle\",\"Rock\"],[\"Skrelp\",\"Poison\"],[\"Dragalge\",\"Poison\"],[\"Clauncher\",\"Water\"],[\"Clawitzer\",\"Water\"],[\"Helioptile\",\"Electric\"],[\"Heliolisk\",\"Electric\"],[\"Tyrunt\",\"Rock\"],[\"Tyrantrum\",\"Rock\"],[\"Amaura\",\"Rock\"],[\"Aurorus\",\"Rock\"],[\"Sylveon\",\"Fairy\"],[\"Hawlucha\",\"Fighting\"],[\"Dedenne\",\"Electric\"],[\"Carbink\",\"Rock\"],[\"Goomy\",\"Dragon\"],[\"Sliggoo\",\"Dragon\"],[\"Sliggoo Hisuian Sliggoo\",\"Steel\"],[\"Goodra\",\"Dragon\"],[\"Goodra Hisuian Goodra\",\"Steel\"],[\"Klefki\",\"Steel\"],[\"Phantump\",\"Ghost\"],[\"Trevenant\",\"Ghost\"],[\"Pumpkaboo Average Size\",\"Ghost\"],[\"Pumpkaboo Small Size\",\"Ghost\"],[\"Pumpkaboo Large Size\",\"Ghost\"],[\"Pumpkaboo Super Size\",\"Ghost\"],[\"Gourgeist Average Size\",\"Ghost\"],[\"Gourgeist Small Size\",\"Ghost\"],[\"Gourgeist Large Size\",\"Ghost\"],[\"Gourgeist Super Size\",\"Ghost\"],[\"Bergmite\",\"Ice\"],[\"Avalugg\",\"Ice\"],[\"Avalugg Hisuian Avalugg\",\"Ice\"],[\"Noibat\",\"Flying\"],[\"Noivern\",\"Flying\"],[\"Xerneas\",\"Fairy\"],[\"Yveltal\",\"Dark\"],[\"Zygarde 50% Forme\",\"Dragon\"],[\"Zygarde 10% Forme\",\"Dragon\"],[\"Zygarde Complete Forme\",\"Dragon\"],[\"Diancie\",\"Rock\"],[\"Diancie Mega Diancie\",\"Rock\"],[\"Hoopa Hoopa Confined\",\"Psychic\"],[\"Hoopa Hoopa Unbound\",\"Psychic\"],[\"Volcanion\",\"Fire\"],[\"Rowlet\",\"Grass\"],[\"Dartrix\",\"Grass\"],[\"Decidueye\",\"Grass\"],[\"Decidueye Hisuian Decidueye\",\"Grass\"],[\"Litten\",\"Fire\"],[\"Torracat\",\"Fire\"],[\"Incineroar\",\"Fire\"],[\"Popplio\",\"Water\"],[\"Brionne\",\"Water\"],[\"Primarina\",\"Water\"],[\"Pikipek\",\"Normal\"],[\"Trumbeak\",\"Normal\"],[\"Toucannon\",\"Normal\"],[\"Yungoos\",\"Normal\"],[\"Gumshoos\",\"Normal\"],[\"Grubbin\",\"Bug\"],[\"Charjabug\",\"Bug\"],[\"Vikavolt\",\"Bug\"],[\"Crabrawler\",\"Fighting\"],[\"Crabominable\",\"Fighting\"],[\"Oricorio Baile Style\",\"Fire\"],[\"Oricorio Pom-Pom Style\",\"Electric\"],[\"Oricorio Pa'u Style\",\"Psychic\"],[\"Oricorio Sensu Style\",\"Ghost\"],[\"Cutiefly\",\"Bug\"],[\"Ribombee\",\"Bug\"],[\"Rockruff\",\"Rock\"],[\"Rockruff Own Tempo Rockruff\",\"Rock\"],[\"Lycanroc Midday Form\",\"Rock\"],[\"Lycanroc Midnight Form\",\"Rock\"],[\"Lycanroc Dusk Form\",\"Rock\"],[\"Wishiwashi Solo Form\",\"Water\"],[\"Wishiwashi School Form\",\"Water\"],[\"Mareanie\",\"Poison\"],[\"Toxapex\",\"Poison\"],[\"Mudbray\",\"Ground\"],[\"Mudsdale\",\"Ground\"],[\"Dewpider\",\"Water\"],[\"Araquanid\",\"Water\"],[\"Fomantis\",\"Grass\"],[\"Lurantis\",\"Grass\"],[\"Morelull\",\"Grass\"],[\"Shiinotic\",\"Grass\"],[\"Salandit\",\"Poison\"],[\"Salazzle\",\"Poison\"],[\"Stufful\",\"Normal\"],[\"Bewear\",\"Normal\"],[\"Bounsweet\",\"Grass\"],[\"Steenee\",\"Grass\"],[\"Tsareena\",\"Grass\"],[\"Comfey\",\"Fairy\"],[\"Oranguru\",\"Normal\"],[\"Passimian\",\"Fighting\"],[\"Wimpod\",\"Bug\"],[\"Golisopod\",\"Bug\"],[\"Sandygast\",\"Ghost\"],[\"Palossand\",\"Ghost\"],[\"Pyukumuku\",\"Water\"],[\"Type: Null\",\"Normal\"],[\"Silvally\",\"Normal\"],[\"Minior Meteor Form\",\"Rock\"],[\"Minior Core Form\",\"Rock\"],[\"Komala\",\"Normal\"],[\"Turtonator\",\"Fire\"],[\"Togedemaru\",\"Electric\"],[\"Mimikyu\",\"Ghost\"],[\"Bruxish\",\"Water\"],[\"Drampa\",\"Normal\"],[\"Dhelmise\",\"Ghost\"],[\"Jangmo-o\",\"Dragon\"],[\"Hakamo-o\",\"Dragon\"],[\"Kommo-o\",\"Dragon\"],[\"Tapu Koko\",\"Electric\"],[\"Tapu Lele\",\"Psychic\"],[\"Tapu Bulu\",\"Grass\"],[\"Tapu Fini\",\"Water\"],[\"Cosmog\",\"Psychic\"],[\"Cosmoem\",\"Psychic\"],[\"Solgaleo\",\"Psychic\"],[\"Lunala\",\"Psychic\"],[\"Nihilego\",\"Rock\"],[\"Buzzwole\",\"Bug\"],[\"Pheromosa\",\"Bug\"],[\"Xurkitree\",\"Electric\"],[\"Celesteela\",\"Steel\"],[\"Kartana\",\"Grass\"],[\"Guzzlord\",\"Dark\"],[\"Necrozma\",\"Psychic\"],[\"Necrozma Dusk Mane Necrozma\",\"Psychic\"],[\"Necrozma Dawn Wings Necrozma\",\"Psychic\"],[\"Necrozma Ultra Necrozma\",\"Psychic\"],[\"Magearna\",\"Steel\"],[\"Marshadow\",\"Fighting\"],[\"Poipole\",\"Poison\"],[\"Naganadel\",\"Poison\"],[\"Stakataka\",\"Rock\"],[\"Blacephalon\",\"Fire\"],[\"Zeraora\",\"Electric\"],[\"Meltan\",\"Steel\"],[\"Melmetal\",\"Steel\"],[\"Grookey\",\"Grass\"],[\"Thwackey\",\"Grass\"],[\"Rillaboom\",\"Grass\"],[\"Scorbunny\",\"Fire\"],[\"Raboot\",\"Fire\"],[\"Cinderace\",\"Fire\"],[\"Sobble\",\"Water\"],[\"Drizzile\",\"Water\"],[\"Inteleon\",\"Water\"],[\"Skwovet\",\"Normal\"],[\"Greedent\",\"Normal\"],[\"Rookidee\",\"Flying\"],[\"Corvisquire\",\"Flying\"],[\"Corviknight\",\"Flying\"],[\"Blipbug\",\"Bug\"],[\"Dottler\",\"Bug\"],[\"Orbeetle\",\"Bug\"],[\"Nickit\",\"Dark\"],[\"Thievul\",\"Dark\"],[\"Gossifleur\",\"Grass\"],[\"Eldegoss\",\"Grass\"],[\"Wooloo\",\"Normal\"],[\"Dubwool\",\"Normal\"],[\"Chewtle\",\"Water\"],[\"Drednaw\",\"Water\"],[\"Yamper\",\"Electric\"],[\"Boltund\",\"Electric\"],[\"Rolycoly\",\"Rock\"],[\"Carkol\",\"Rock\"],[\"Coalossal\",\"Rock\"],[\"Applin\",\"Grass\"],[\"Flapple\",\"Grass\"],[\"Appletun\",\"Grass\"],[\"Silicobra\",\"Ground\"],[\"Sandaconda\",\"Ground\"],[\"Cramorant\",\"Flying\"],[\"Arrokuda\",\"Water\"],[\"Barraskewda\",\"Water\"],[\"Toxel\",\"Electric\"],[\"Toxtricity Amped Form\",\"Electric\"],[\"Toxtricity Low Key Form\",\"Electric\"],[\"Sizzlipede\",\"Fire\"],[\"Centiskorch\",\"Fire\"],[\"Clobbopus\",\"Fighting\"],[\"Grapploct\",\"Fighting\"],[\"Sinistea\",\"Ghost\"],[\"Polteageist\",\"Ghost\"],[\"Hatenna\",\"Psychic\"],[\"Hattrem\",\"Psychic\"],[\"Hatterene\",\"Psychic\"],[\"Impidimp\",\"Dark\"],[\"Morgrem\",\"Dark\"],[\"Grimmsnarl\",\"Dark\"],[\"Obstagoon\",\"Dark\"],[\"Perrserker\",\"Steel\"],[\"Cursola\",\"Ghost\"],[\"Sirfetch'd\",\"Fighting\"],[\"Mr. Rime\",\"Ice\"],[\"Runerigus\",\"Ground\"],[\"Milcery\",\"Fairy\"],[\"Alcremie\",\"Fairy\"],[\"Falinks\",\"Fighting\"],[\"Pincurchin\",\"Electric\"],[\"Snom\",\"Ice\"],[\"Frosmoth\",\"Ice\"],[\"Stonjourner\",\"Rock\"],[\"Eiscue Ice Face\",\"Ice\"],[\"Eiscue Noice Face\",\"Ice\"],[\"Indeedee Male\",\"Psychic\"],[\"Indeedee Female\",\"Psychic\"],[\"Morpeko Full Belly Mode\",\"Electric\"],[\"Morpeko Hangry Mode\",\"Electric\"],[\"Cufant\",\"Steel\"],[\"Copperajah\",\"Steel\"],[\"Dracozolt\",\"Electric\"],[\"Arctozolt\",\"Electric\"],[\"Dracovish\",\"Water\"],[\"Arctovish\",\"Water\"],[\"Duraludon\",\"Steel\"],[\"Dreepy\",\"Dragon\"],[\"Drakloak\",\"Dragon\"],[\"Dragapult\",\"Dragon\"],[\"Zacian Hero of Many Battles\",\"Fairy\"],[\"Zacian Crowned Sword\",\"Fairy\"],[\"Zamazenta Hero of Many Battles\",\"Fighting\"],[\"Zamazenta Crowned Shield\",\"Fighting\"],[\"Eternatus\",\"Poison\"],[\"Eternatus Eternamax\",\"Poison\"],[\"Kubfu\",\"Fighting\"],[\"Urshifu Single Strike Style\",\"Fighting\"],[\"Urshifu Rapid Strike Style\",\"Fighting\"],[\"Zarude\",\"Dark\"],[\"Regieleki\",\"Electric\"],[\"Regidrago\",\"Dragon\"],[\"Glastrier\",\"Ice\"],[\"Spectrier\",\"Ghost\"],[\"Calyrex\",\"Psychic\"],[\"Calyrex Ice Rider\",\"Psychic\"],[\"Calyrex Shadow Rider\",\"Psychic\"],[\"Wyrdeer\",\"Normal\"],[\"Kleavor\",\"Bug\"],[\"Ursaluna\",\"Ground\"],[\"Basculegion Male\",\"Water\"],[\"Basculegion Female\",\"Water\"],[\"Sneasler\",\"Fighting\"],[\"Overqwil\",\"Dark\"],[\"Enamorus Incarnate Forme\",\"Fairy\"],[\"Enamorus Therian Forme\",\"Fairy\"],[\"Sprigatito\",\"Grass\"],[\"Floragato\",\"Grass\"],[\"Meowscarada\",\"Grass\"],[\"Fuecoco\",\"Fire\"],[\"Crocalor\",\"Fire\"],[\"Skeledirge\",\"Fire\"],[\"Quaxly\",\"Water\"],[\"Quaxwell\",\"Water\"],[\"Quaquaval\",\"Water\"],[\"Lechonk\",\"Normal\"],[\"Oinkologne Male\",\"Normal\"],[\"Oinkologne Female\",\"Normal\"],[\"Tarountula\",\"Bug\"],[\"Spidops\",\"Bug\"],[\"Nymble\",\"Bug\"],[\"Lokix\",\"Bug\"],[\"Pawmi\",\"Electric\"],[\"Pawmo\",\"Electric\"],[\"Pawmot\",\"Electric\"],[\"Tandemaus\",\"Normal\"],[\"Maushold Family of Four\",\"Normal\"],[\"Maushold Family of Three\",\"Normal\"],[\"Fidough\",\"Fairy\"],[\"Dachsbun\",\"Fairy\"],[\"Smoliv\",\"Grass\"],[\"Dolliv\",\"Grass\"],[\"Arboliva\",\"Grass\"],[\"Squawkabilly Green Plumage\",\"Normal\"],[\"Squawkabilly Blue Plumage\",\"Normal\"],[\"Squawkabilly Yellow Plumage\",\"Normal\"],[\"Squawkabilly White Plumage\",\"Normal\"],[\"Nacli\",\"Rock\"],[\"Naclstack\",\"Rock\"],[\"Garganacl\",\"Rock\"],[\"Charcadet\",\"Fire\"],[\"Armarouge\",\"Fire\"],[\"Ceruledge\",\"Fire\"],[\"Tadbulb\",\"Electric\"],[\"Bellibolt\",\"Electric\"],[\"Wattrel\",\"Electric\"],[\"Kilowattrel\",\"Electric\"],[\"Maschiff\",\"Dark\"],[\"Mabosstiff\",\"Dark\"],[\"Shroodle\",\"Poison\"],[\"Grafaiai\",\"Poison\"],[\"Bramblin\",\"Grass\"],[\"Brambleghast\",\"Grass\"],[\"Toedscool\",\"Ground\"],[\"Toedscruel\",\"Ground\"],[\"Klawf\",\"Rock\"],[\"Capsakid\",\"Grass\"],[\"Scovillain\",\"Grass\"],[\"Rellor\",\"Bug\"],[\"Rabsca\",\"Bug\"],[\"Flittle\",\"Psychic\"],[\"Espathra\",\"Psychic\"],[\"Tinkatink\",\"Fairy\"],[\"Tinkatuff\",\"Fairy\"],[\"Tinkaton\",\"Fairy\"],[\"Wiglett\",\"Water\"],[\"Wugtrio\",\"Water\"],[\"Bombirdier\",\"Flying\"],[\"Finizen\",\"Water\"],[\"Palafin Zero Form\",\"Water\"],[\"Palafin Hero Form\",\"Water\"],[\"Varoom\",\"Steel\"],[\"Revavroom\",\"Steel\"],[\"Cyclizar\",\"Dragon\"],[\"Orthworm\",\"Steel\"],[\"Glimmet\",\"Rock\"],[\"Glimmora\",\"Rock\"],[\"Greavard\",\"Ghost\"],[\"Houndstone\",\"Ghost\"],[\"Flamigo\",\"Flying\"],[\"Cetoddle\",\"Ice\"],[\"Cetitan\",\"Ice\"],[\"Veluza\",\"Water\"],[\"Dondozo\",\"Water\"],[\"Tatsugiri Curly Form\",\"Dragon\"],[\"Tatsugiri Droopy Form\",\"Dragon\"],[\"Tatsugiri Stretchy Form\",\"Dragon\"],[\"Annihilape\",\"Fighting\"],[\"Clodsire\",\"Poison\"],[\"Farigiraf\",\"Normal\"],[\"Dudunsparce Two-Segment Form\",\"Normal\"],[\"Dudunsparce Three-Segment Form\",\"Normal\"],[\"Kingambit\",\"Dark\"],[\"Great Tusk\",\"Ground\"],[\"Scream Tail\",\"Fairy\"],[\"Brute Bonnet\",\"Grass\"],[\"Flutter Mane\",\"Ghost\"],[\"Slither Wing\",\"Bug\"],[\"Sandy Shocks\",\"Electric\"],[\"Iron Treads\",\"Ground\"],[\"Iron Bundle\",\"Ice\"],[\"Iron Hands\",\"Fighting\"],[\"Iron Jugulis\",\"Dark\"],[\"Iron Moth\",\"Fire\"],[\"Iron Thorns\",\"Rock\"],[\"Frigibax\",\"Dragon\"],[\"Arctibax\",\"Dragon\"],[\"Baxcalibur\",\"Dragon\"],[\"Gimmighoul Chest Form\",\"Ghost\"],[\"Gimmighoul Roaming Form\",\"Ghost\"],[\"Gholdengo\",\"Steel\"],[\"Wo-Chien\",\"Dark\"],[\"Chien-Pao\",\"Dark\"],[\"Ting-Lu\",\"Dark\"],[\"Chi-Yu\",\"Dark\"],[\"Roaring Moon\",\"Dragon\"],[\"Iron Valiant\",\"Fairy\"],[\"Koraidon\",\"Fighting\"],[\"Miraidon\",\"Electric\"],[\"Walking Wake\",\"Water\"],[\"Iron Leaves\",\"Grass\"]],\"hovertemplate\":\"Attack=%{x}<br>Defense=%{y}<br>Total=%{marker.size}<br>Names=%{customdata[0]}<br>Type1=%{customdata[1]}<extra></extra>\",\"legendgroup\":\"\",\"marker\":{\"color\":\"#636efa\",\"size\":[318,405,525,625,309,405,534,634,634,314,405,530,630,195,205,395,195,205,395,495,251,349,479,579,253,253,413,413,262,442,288,448,320,430,485,485,300,300,450,450,275,365,505,273,365,505,323,483,299,299,505,505,270,435,245,455,320,395,490,285,405,305,450,265,265,425,425,290,290,290,440,440,320,500,305,455,350,350,555,555,300,385,510,310,400,500,600,305,405,505,300,390,490,335,515,300,300,390,390,495,495,410,410,500,500,315,315,490,590,490,325,465,377,377,310,470,325,475,325,325,500,500,305,525,310,405,500,600,385,328,483,325,475,330,330,490,490,325,530,530,320,425,425,455,455,385,340,490,490,345,485,450,435,490,590,295,440,320,450,340,520,460,460,500,455,490,495,500,600,490,490,490,490,200,540,640,535,288,325,435,525,525,525,395,355,495,355,495,515,615,540,580,580,580,580,580,580,300,420,600,680,780,780,600,318,405,525,309,405,534,534,314,405,530,215,415,262,452,265,390,250,400,535,330,460,205,218,210,245,405,320,470,280,365,510,610,490,250,420,410,500,250,340,460,360,180,425,390,210,210,430,525,525,405,490,490,435,336,405,455,290,465,415,430,510,610,300,450,440,440,500,600,505,500,600,430,430,330,500,250,430,250,450,410,410,300,480,330,485,465,330,500,600,540,330,500,515,465,250,210,455,305,360,365,490,540,580,580,580,300,410,600,700,680,680,600,310,405,530,630,310,405,530,630,310,405,535,635,220,420,240,240,420,420,195,205,395,205,385,220,340,480,220,340,480,270,455,270,440,198,278,518,618,269,454,295,460,280,440,670,266,456,236,240,360,490,237,474,190,375,260,400,380,480,380,480,330,430,530,630,280,410,510,295,475,575,405,405,430,430,400,302,467,305,460,560,400,500,305,460,560,470,330,470,360,290,340,520,335,475,310,490,590,458,458,460,460,288,468,308,468,300,500,355,495,355,495,200,540,420,420,420,420,440,295,455,555,295,455,460,455,465,565,260,300,480,580,290,410,530,345,485,485,485,330,300,420,600,700,300,420,600,700,580,580,580,600,700,600,700,670,770,670,770,680,780,600,600,600,600,600,318,405,525,309,405,534,314,405,530,245,340,485,250,410,194,384,263,363,523,280,515,350,495,350,495,224,224,224,424,424,424,424,244,474,405,330,495,275,450,325,475,482,348,498,350,480,580,495,505,310,452,285,329,479,300,500,290,310,220,411,485,300,410,600,700,390,285,525,625,330,525,330,500,300,490,454,330,460,345,334,494,594,510,535,515,535,535,540,540,545,515,525,525,510,530,535,518,618,525,525,480,440,520,520,520,520,520,580,580,580,680,680,680,680,600,670,680,680,580,480,600,600,600,600,720,600,308,413,528,308,418,528,308,413,528,528,255,420,275,370,500,281,446,316,498,316,498,316,498,292,487,264,358,488,295,497,280,390,515,323,425,328,508,445,545,305,405,505,294,384,509,465,465,310,380,500,260,360,485,280,480,280,480,480,460,460,460,292,351,519,315,315,480,540,480,540,461,325,485,348,488,490,303,303,483,355,495,401,567,329,474,330,330,510,510,300,470,290,390,490,290,370,490,305,473,305,395,535,335,475,428,315,495,294,464,335,480,470,319,472,305,489,300,440,520,275,405,515,335,485,275,370,520,320,410,540,305,505,515,305,495,471,471,350,510,485,303,483,340,490,490,350,510,510,370,510,484,484,300,420,600,360,550,580,580,580,580,580,580,580,680,680,600,600,660,700,700,580,580,600,600,600,313,405,530,307,409,534,314,405,530,640,237,423,278,382,499,200,213,411,369,507,303,371,552,350,531,348,495,472,355,466,466,325,448,500,500,341,462,341,480,288,482,306,500,320,494,330,500,289,481,362,521,362,521,525,500,431,500,300,452,452,600,600,470,309,474,335,335,335,335,494,494,494,494,304,514,514,245,535,680,680,600,486,708,600,700,600,680,600,320,420,530,530,320,420,530,320,420,530,265,355,485,253,418,300,400,500,338,478,476,476,476,476,304,464,280,280,487,487,487,175,620,305,495,385,500,269,454,250,480,285,405,320,480,340,500,210,290,510,485,490,490,230,530,320,480,410,534,570,440,500,480,485,435,476,475,485,517,300,420,600,570,570,570,570,200,400,680,680,570,570,570,570,570,570,570,600,680,680,754,600,600,420,540,570,570,600,300,600,310,420,530,310,420,530,310,420,530,275,460,245,365,495,180,335,505,245,455,250,460,270,490,284,485,270,490,240,410,510,260,485,485,315,510,475,280,490,242,502,502,305,525,310,480,308,508,265,370,510,265,370,510,520,440,510,507,520,483,270,495,470,435,185,475,470,470,470,475,475,436,436,330,500,505,505,505,505,535,270,410,600,660,700,660,700,690,1125,385,550,550,600,580,580,580,580,500,680,680,525,500,550,530,530,510,510,580,580,310,410,530,310,411,530,310,410,530,254,489,489,210,404,210,450,240,350,490,305,470,470,312,477,260,354,510,417,417,417,417,280,355,500,255,525,525,272,495,280,490,340,505,290,485,275,480,335,515,450,304,486,270,470,255,481,297,380,506,245,425,485,315,457,650,300,500,501,480,350,525,290,488,500,334,521,478,530,475,475,475,535,430,520,520,520,550,570,570,570,570,570,570,570,570,570,570,570,570,320,423,600,300,300,550,570,570,570,570,590,590,670,670,590,590],\"sizemode\":\"area\",\"sizeref\":2.8125,\"symbol\":\"circle\"},\"mode\":\"markers\",\"name\":\"\",\"showlegend\":false,\"x\":[49,62,82,100,52,64,84,130,104,48,63,83,103,30,20,45,35,25,90,150,45,60,80,80,56,56,81,71,60,90,60,95,55,80,90,85,75,75,100,100,47,62,92,57,72,102,45,70,41,41,76,67,45,70,45,80,50,65,80,70,95,55,65,55,55,100,100,45,35,65,70,60,52,82,80,105,70,75,110,115,50,65,95,20,35,50,50,80,100,130,75,90,105,40,70,80,80,95,95,120,120,85,85,100,100,65,65,75,75,100,35,60,90,95,85,110,45,70,80,80,105,105,65,95,35,50,65,65,45,48,73,105,130,30,30,50,50,40,95,105,50,80,80,120,105,55,65,90,90,85,130,5,55,95,125,40,65,67,92,45,75,45,65,110,50,83,95,125,155,100,110,110,110,10,125,155,85,48,55,75,65,65,130,60,40,60,80,115,105,135,110,85,85,90,125,100,85,64,84,134,110,190,150,100,49,62,82,52,64,84,84,65,80,105,46,76,30,50,20,35,60,90,90,38,58,40,25,30,20,40,50,75,40,55,75,95,80,20,50,100,75,35,45,55,70,30,75,65,45,45,85,65,65,85,75,65,60,72,33,80,65,90,70,75,85,125,80,120,95,95,130,150,10,125,185,95,95,80,130,40,50,50,100,55,55,65,105,55,40,80,60,90,90,95,60,120,80,95,20,35,95,30,63,75,80,10,85,115,75,64,84,134,164,90,130,100,45,65,85,110,60,85,120,160,70,85,110,150,55,90,30,30,70,70,45,35,70,35,50,30,50,70,40,70,100,55,85,30,50,25,35,65,85,30,60,40,130,60,80,160,45,90,90,51,71,91,60,120,20,45,45,65,75,85,85,105,70,90,110,140,40,60,100,45,75,75,50,40,73,47,60,43,73,90,120,140,70,90,60,100,120,85,25,45,60,100,70,100,85,115,40,70,110,115,100,55,95,48,78,80,120,40,70,41,81,95,125,15,60,70,70,70,70,90,75,115,165,40,70,68,50,130,150,23,50,80,120,40,60,80,64,104,84,90,30,75,95,135,145,55,75,135,145,100,50,75,80,100,90,130,100,150,150,180,150,180,100,150,180,70,95,68,89,109,58,78,104,51,66,86,55,75,120,45,85,25,85,65,85,120,30,70,125,165,42,52,29,29,29,59,79,69,94,30,80,45,65,105,35,60,48,83,100,50,80,66,76,136,60,125,55,82,30,63,93,24,89,80,25,5,65,92,70,90,130,170,85,70,110,145,72,112,50,90,61,106,100,49,69,20,62,92,132,120,70,85,140,100,123,95,50,76,110,60,95,130,80,125,165,55,100,80,50,65,65,65,65,65,75,105,125,120,100,120,100,90,160,100,120,70,80,100,90,100,103,120,100,45,60,75,63,93,123,55,75,100,108,55,85,60,80,110,50,88,53,98,53,98,53,98,25,55,55,77,115,60,100,75,105,135,45,57,85,135,60,60,80,105,140,50,65,95,100,125,53,63,103,45,55,100,27,67,35,60,105,92,92,92,72,82,117,90,90,140,30,140,160,86,65,105,75,90,58,30,55,50,78,108,112,140,50,95,65,60,105,100,50,95,30,45,55,30,40,65,44,87,50,65,95,60,100,75,75,135,55,85,40,60,75,47,77,50,94,55,80,100,55,85,115,55,75,30,40,55,87,117,147,70,130,50,40,70,66,81,85,125,120,74,124,85,125,110,83,123,83,55,65,97,109,65,85,105,85,60,90,129,90,115,100,115,105,120,150,125,145,130,120,170,72,72,77,128,120,61,78,107,45,59,69,56,63,95,145,36,56,50,73,81,35,22,52,50,68,38,45,65,65,100,82,124,80,48,48,48,80,110,50,140,52,72,48,80,54,92,52,105,60,75,53,73,38,55,89,121,59,77,65,92,58,50,50,75,75,100,100,80,70,110,66,66,66,66,90,85,95,100,69,117,127,30,70,131,131,100,100,100,100,160,110,160,110,55,75,107,112,65,85,115,54,69,74,75,85,120,70,110,62,82,70,82,132,70,70,70,70,45,55,65,65,115,115,117,20,140,53,63,100,125,40,70,55,105,35,45,44,64,75,125,30,40,120,52,60,120,35,125,55,75,60,95,95,60,100,115,78,98,90,105,60,131,55,75,110,115,85,130,75,29,29,137,113,53,139,137,89,101,181,101,107,157,113,167,95,125,73,73,131,127,112,65,143,65,85,125,71,86,116,40,60,85,55,95,47,67,87,20,35,45,28,58,40,50,40,80,64,115,45,90,40,60,80,40,110,85,57,107,85,63,123,38,98,98,65,115,68,118,45,65,30,40,90,45,60,120,90,110,95,135,85,95,40,60,100,101,25,65,125,80,80,65,55,95,95,80,130,100,100,90,90,95,60,80,120,120,150,120,120,85,115,90,130,130,120,100,100,145,65,80,165,85,105,135,140,112,92,130,115,115,115,61,80,110,45,55,75,65,85,120,45,100,90,41,79,46,102,50,75,115,50,75,75,55,80,35,53,69,96,96,96,96,55,60,100,50,60,125,31,64,40,70,78,120,65,95,65,115,40,70,100,62,108,50,50,35,60,45,55,75,55,100,103,45,70,160,70,119,95,85,35,55,61,101,115,68,113,102,100,50,50,50,115,75,90,100,100,135,131,65,127,55,135,81,112,80,140,80,70,134,75,95,145,30,30,60,85,120,110,80,139,130,135,85,83,130],\"xaxis\":\"x\",\"y\":[49,63,83,123,43,58,78,111,78,65,80,100,120,35,55,50,30,50,40,40,40,55,75,80,35,35,60,70,30,65,44,69,40,50,55,50,85,90,110,120,52,67,87,40,57,77,48,73,40,40,75,75,20,45,35,70,55,70,85,55,80,50,60,25,30,50,60,35,35,55,60,60,48,78,35,60,45,45,80,80,40,65,95,15,30,45,65,50,70,80,35,50,65,35,65,100,100,115,115,130,130,55,55,70,70,65,65,110,180,95,70,95,55,55,45,70,55,80,50,50,75,75,100,180,30,45,60,80,160,45,70,90,115,50,50,70,70,80,85,85,95,110,110,53,79,75,95,120,120,95,120,5,115,80,100,70,95,60,65,55,85,65,65,80,35,57,57,100,120,95,105,105,105,55,79,109,80,48,50,70,60,60,60,70,100,125,90,105,65,85,65,100,85,85,90,90,90,45,65,95,90,100,70,100,65,80,100,43,58,78,78,64,80,100,34,64,30,50,30,50,40,70,80,38,58,15,28,15,65,85,45,70,40,55,85,105,95,50,80,115,75,40,50,70,55,30,55,45,45,45,85,60,110,42,80,80,60,48,58,65,90,140,70,105,200,230,50,75,85,85,100,140,230,75,115,55,55,50,75,40,120,40,80,95,100,35,75,45,70,140,30,50,90,95,60,120,90,62,35,35,95,15,37,37,105,10,75,85,115,50,70,110,150,130,90,100,35,45,65,75,40,60,70,80,50,70,90,110,35,70,41,41,61,61,35,55,50,55,70,30,50,70,50,40,60,30,60,30,100,25,35,65,65,32,62,60,80,60,80,100,90,45,45,23,43,63,30,60,40,135,45,65,75,125,85,125,100,140,180,230,55,75,85,40,60,80,40,50,75,75,45,53,83,20,40,70,35,45,40,70,100,140,35,65,60,45,50,80,40,60,60,90,110,60,60,65,85,43,73,65,85,55,105,77,97,50,100,20,79,70,70,70,70,70,35,65,75,90,130,83,80,60,60,48,50,80,80,50,70,90,85,105,105,130,55,60,100,80,130,80,100,130,150,200,100,150,90,120,80,100,90,90,140,160,90,100,100,50,20,160,90,64,85,105,44,52,71,53,68,88,30,50,70,40,60,41,51,34,49,79,35,65,40,60,118,168,45,45,45,85,105,95,50,42,102,70,35,55,45,70,48,68,66,34,44,44,84,94,60,52,42,64,50,47,67,86,116,95,45,5,45,108,45,65,95,115,40,40,70,88,78,118,90,110,40,65,72,56,76,50,50,75,105,65,115,95,130,125,67,67,95,86,130,110,125,80,70,65,95,145,135,70,77,107,107,107,107,107,130,105,70,120,120,100,100,106,110,120,100,110,80,100,90,100,75,120,100,55,75,95,45,55,65,45,60,85,80,39,69,45,65,90,37,50,48,63,48,63,48,63,45,85,50,62,80,32,63,85,105,130,43,55,40,60,86,126,55,85,95,40,55,75,85,75,70,90,80,59,99,89,60,85,50,75,75,65,65,65,35,45,80,45,45,55,105,55,55,67,85,125,70,115,80,85,85,145,103,133,45,65,62,82,40,40,60,60,40,60,50,70,95,40,50,75,50,63,50,65,85,50,70,60,45,105,45,70,50,70,80,50,60,91,131,70,95,115,40,70,80,55,75,55,60,90,60,70,90,40,80,50,85,40,84,99,50,60,90,50,80,70,100,95,50,75,70,75,105,66,112,50,70,90,55,65,129,90,72,70,80,70,70,100,120,90,90,90,90,100,90,90,77,90,95,65,95,122,40,58,72,40,52,67,67,38,77,43,55,71,40,60,50,58,72,39,47,68,48,62,62,78,60,54,76,76,100,150,140,50,60,72,66,86,53,88,67,115,60,90,62,88,33,52,77,119,50,72,65,75,57,150,35,53,83,70,100,91,48,76,70,70,70,70,122,122,122,122,85,184,184,35,80,95,95,121,71,121,150,110,60,60,120,55,75,75,80,40,50,90,54,69,74,30,50,75,30,60,45,95,90,57,77,70,70,70,70,40,60,40,40,65,75,65,20,130,62,152,70,100,52,92,35,90,55,80,40,60,50,80,38,48,98,90,80,90,40,140,80,110,130,95,95,100,60,65,135,63,80,70,85,100,65,90,125,85,75,115,115,31,131,107,89,47,139,37,71,103,131,53,101,127,109,97,115,80,67,73,211,53,75,65,143,50,70,90,40,60,75,40,55,65,55,95,35,55,105,20,80,110,28,58,60,90,55,100,50,90,50,60,50,90,120,80,80,80,75,125,55,40,60,35,70,70,45,65,60,90,45,65,45,65,95,30,45,65,101,100,50,95,75,145,40,75,100,95,35,60,135,110,70,55,65,58,58,49,69,90,90,100,100,115,30,50,75,115,115,115,140,95,250,60,100,100,105,50,50,130,60,80,150,80,72,95,105,65,65,60,95,70,110,54,63,70,59,78,100,45,65,80,40,75,70,45,92,40,78,20,40,70,45,70,70,70,115,45,60,90,51,51,51,51,75,100,130,40,100,80,41,91,35,60,60,90,35,65,30,70,35,65,115,40,65,60,85,30,60,45,55,77,25,50,85,40,72,97,63,90,65,145,42,90,60,100,74,45,65,73,115,60,60,60,80,60,70,80,80,120,131,99,99,55,79,97,120,114,108,86,60,110,45,66,92,70,25,95,100,80,125,80,71,90,115,100,91,88],\"yaxis\":\"y\",\"type\":\"scattergl\"}],                        {\"template\":{\"data\":{\"histogram2dcontour\":[{\"type\":\"histogram2dcontour\",\"colorbar\":{\"outlinewidth\":0,\"ticks\":\"\"},\"colorscale\":[[0.0,\"#0d0887\"],[0.1111111111111111,\"#46039f\"],[0.2222222222222222,\"#7201a8\"],[0.3333333333333333,\"#9c179e\"],[0.4444444444444444,\"#bd3786\"],[0.5555555555555556,\"#d8576b\"],[0.6666666666666666,\"#ed7953\"],[0.7777777777777778,\"#fb9f3a\"],[0.8888888888888888,\"#fdca26\"],[1.0,\"#f0f921\"]]}],\"choropleth\":[{\"type\":\"choropleth\",\"colorbar\":{\"outlinewidth\":0,\"ticks\":\"\"}}],\"histogram2d\":[{\"type\":\"histogram2d\",\"colorbar\":{\"outlinewidth\":0,\"ticks\":\"\"},\"colorscale\":[[0.0,\"#0d0887\"],[0.1111111111111111,\"#46039f\"],[0.2222222222222222,\"#7201a8\"],[0.3333333333333333,\"#9c179e\"],[0.4444444444444444,\"#bd3786\"],[0.5555555555555556,\"#d8576b\"],[0.6666666666666666,\"#ed7953\"],[0.7777777777777778,\"#fb9f3a\"],[0.8888888888888888,\"#fdca26\"],[1.0,\"#f0f921\"]]}],\"heatmap\":[{\"type\":\"heatmap\",\"colorbar\":{\"outlinewidth\":0,\"ticks\":\"\"},\"colorscale\":[[0.0,\"#0d0887\"],[0.1111111111111111,\"#46039f\"],[0.2222222222222222,\"#7201a8\"],[0.3333333333333333,\"#9c179e\"],[0.4444444444444444,\"#bd3786\"],[0.5555555555555556,\"#d8576b\"],[0.6666666666666666,\"#ed7953\"],[0.7777777777777778,\"#fb9f3a\"],[0.8888888888888888,\"#fdca26\"],[1.0,\"#f0f921\"]]}],\"heatmapgl\":[{\"type\":\"heatmapgl\",\"colorbar\":{\"outlinewidth\":0,\"ticks\":\"\"},\"colorscale\":[[0.0,\"#0d0887\"],[0.1111111111111111,\"#46039f\"],[0.2222222222222222,\"#7201a8\"],[0.3333333333333333,\"#9c179e\"],[0.4444444444444444,\"#bd3786\"],[0.5555555555555556,\"#d8576b\"],[0.6666666666666666,\"#ed7953\"],[0.7777777777777778,\"#fb9f3a\"],[0.8888888888888888,\"#fdca26\"],[1.0,\"#f0f921\"]]}],\"contourcarpet\":[{\"type\":\"contourcarpet\",\"colorbar\":{\"outlinewidth\":0,\"ticks\":\"\"}}],\"contour\":[{\"type\":\"contour\",\"colorbar\":{\"outlinewidth\":0,\"ticks\":\"\"},\"colorscale\":[[0.0,\"#0d0887\"],[0.1111111111111111,\"#46039f\"],[0.2222222222222222,\"#7201a8\"],[0.3333333333333333,\"#9c179e\"],[0.4444444444444444,\"#bd3786\"],[0.5555555555555556,\"#d8576b\"],[0.6666666666666666,\"#ed7953\"],[0.7777777777777778,\"#fb9f3a\"],[0.8888888888888888,\"#fdca26\"],[1.0,\"#f0f921\"]]}],\"surface\":[{\"type\":\"surface\",\"colorbar\":{\"outlinewidth\":0,\"ticks\":\"\"},\"colorscale\":[[0.0,\"#0d0887\"],[0.1111111111111111,\"#46039f\"],[0.2222222222222222,\"#7201a8\"],[0.3333333333333333,\"#9c179e\"],[0.4444444444444444,\"#bd3786\"],[0.5555555555555556,\"#d8576b\"],[0.6666666666666666,\"#ed7953\"],[0.7777777777777778,\"#fb9f3a\"],[0.8888888888888888,\"#fdca26\"],[1.0,\"#f0f921\"]]}],\"mesh3d\":[{\"type\":\"mesh3d\",\"colorbar\":{\"outlinewidth\":0,\"ticks\":\"\"}}],\"scatter\":[{\"fillpattern\":{\"fillmode\":\"overlay\",\"size\":10,\"solidity\":0.2},\"type\":\"scatter\"}],\"parcoords\":[{\"type\":\"parcoords\",\"line\":{\"colorbar\":{\"outlinewidth\":0,\"ticks\":\"\"}}}],\"scatterpolargl\":[{\"type\":\"scatterpolargl\",\"marker\":{\"colorbar\":{\"outlinewidth\":0,\"ticks\":\"\"}}}],\"bar\":[{\"error_x\":{\"color\":\"#2a3f5f\"},\"error_y\":{\"color\":\"#2a3f5f\"},\"marker\":{\"line\":{\"color\":\"#E5ECF6\",\"width\":0.5},\"pattern\":{\"fillmode\":\"overlay\",\"size\":10,\"solidity\":0.2}},\"type\":\"bar\"}],\"scattergeo\":[{\"type\":\"scattergeo\",\"marker\":{\"colorbar\":{\"outlinewidth\":0,\"ticks\":\"\"}}}],\"scatterpolar\":[{\"type\":\"scatterpolar\",\"marker\":{\"colorbar\":{\"outlinewidth\":0,\"ticks\":\"\"}}}],\"histogram\":[{\"marker\":{\"pattern\":{\"fillmode\":\"overlay\",\"size\":10,\"solidity\":0.2}},\"type\":\"histogram\"}],\"scattergl\":[{\"type\":\"scattergl\",\"marker\":{\"colorbar\":{\"outlinewidth\":0,\"ticks\":\"\"}}}],\"scatter3d\":[{\"type\":\"scatter3d\",\"line\":{\"colorbar\":{\"outlinewidth\":0,\"ticks\":\"\"}},\"marker\":{\"colorbar\":{\"outlinewidth\":0,\"ticks\":\"\"}}}],\"scattermapbox\":[{\"type\":\"scattermapbox\",\"marker\":{\"colorbar\":{\"outlinewidth\":0,\"ticks\":\"\"}}}],\"scatterternary\":[{\"type\":\"scatterternary\",\"marker\":{\"colorbar\":{\"outlinewidth\":0,\"ticks\":\"\"}}}],\"scattercarpet\":[{\"type\":\"scattercarpet\",\"marker\":{\"colorbar\":{\"outlinewidth\":0,\"ticks\":\"\"}}}],\"carpet\":[{\"aaxis\":{\"endlinecolor\":\"#2a3f5f\",\"gridcolor\":\"white\",\"linecolor\":\"white\",\"minorgridcolor\":\"white\",\"startlinecolor\":\"#2a3f5f\"},\"baxis\":{\"endlinecolor\":\"#2a3f5f\",\"gridcolor\":\"white\",\"linecolor\":\"white\",\"minorgridcolor\":\"white\",\"startlinecolor\":\"#2a3f5f\"},\"type\":\"carpet\"}],\"table\":[{\"cells\":{\"fill\":{\"color\":\"#EBF0F8\"},\"line\":{\"color\":\"white\"}},\"header\":{\"fill\":{\"color\":\"#C8D4E3\"},\"line\":{\"color\":\"white\"}},\"type\":\"table\"}],\"barpolar\":[{\"marker\":{\"line\":{\"color\":\"#E5ECF6\",\"width\":0.5},\"pattern\":{\"fillmode\":\"overlay\",\"size\":10,\"solidity\":0.2}},\"type\":\"barpolar\"}],\"pie\":[{\"automargin\":true,\"type\":\"pie\"}]},\"layout\":{\"autotypenumbers\":\"strict\",\"colorway\":[\"#636efa\",\"#EF553B\",\"#00cc96\",\"#ab63fa\",\"#FFA15A\",\"#19d3f3\",\"#FF6692\",\"#B6E880\",\"#FF97FF\",\"#FECB52\"],\"font\":{\"color\":\"#2a3f5f\"},\"hovermode\":\"closest\",\"hoverlabel\":{\"align\":\"left\"},\"paper_bgcolor\":\"white\",\"plot_bgcolor\":\"#E5ECF6\",\"polar\":{\"bgcolor\":\"#E5ECF6\",\"angularaxis\":{\"gridcolor\":\"white\",\"linecolor\":\"white\",\"ticks\":\"\"},\"radialaxis\":{\"gridcolor\":\"white\",\"linecolor\":\"white\",\"ticks\":\"\"}},\"ternary\":{\"bgcolor\":\"#E5ECF6\",\"aaxis\":{\"gridcolor\":\"white\",\"linecolor\":\"white\",\"ticks\":\"\"},\"baxis\":{\"gridcolor\":\"white\",\"linecolor\":\"white\",\"ticks\":\"\"},\"caxis\":{\"gridcolor\":\"white\",\"linecolor\":\"white\",\"ticks\":\"\"}},\"coloraxis\":{\"colorbar\":{\"outlinewidth\":0,\"ticks\":\"\"}},\"colorscale\":{\"sequential\":[[0.0,\"#0d0887\"],[0.1111111111111111,\"#46039f\"],[0.2222222222222222,\"#7201a8\"],[0.3333333333333333,\"#9c179e\"],[0.4444444444444444,\"#bd3786\"],[0.5555555555555556,\"#d8576b\"],[0.6666666666666666,\"#ed7953\"],[0.7777777777777778,\"#fb9f3a\"],[0.8888888888888888,\"#fdca26\"],[1.0,\"#f0f921\"]],\"sequentialminus\":[[0.0,\"#0d0887\"],[0.1111111111111111,\"#46039f\"],[0.2222222222222222,\"#7201a8\"],[0.3333333333333333,\"#9c179e\"],[0.4444444444444444,\"#bd3786\"],[0.5555555555555556,\"#d8576b\"],[0.6666666666666666,\"#ed7953\"],[0.7777777777777778,\"#fb9f3a\"],[0.8888888888888888,\"#fdca26\"],[1.0,\"#f0f921\"]],\"diverging\":[[0,\"#8e0152\"],[0.1,\"#c51b7d\"],[0.2,\"#de77ae\"],[0.3,\"#f1b6da\"],[0.4,\"#fde0ef\"],[0.5,\"#f7f7f7\"],[0.6,\"#e6f5d0\"],[0.7,\"#b8e186\"],[0.8,\"#7fbc41\"],[0.9,\"#4d9221\"],[1,\"#276419\"]]},\"xaxis\":{\"gridcolor\":\"white\",\"linecolor\":\"white\",\"ticks\":\"\",\"title\":{\"standoff\":15},\"zerolinecolor\":\"white\",\"automargin\":true,\"zerolinewidth\":2},\"yaxis\":{\"gridcolor\":\"white\",\"linecolor\":\"white\",\"ticks\":\"\",\"title\":{\"standoff\":15},\"zerolinecolor\":\"white\",\"automargin\":true,\"zerolinewidth\":2},\"scene\":{\"xaxis\":{\"backgroundcolor\":\"#E5ECF6\",\"gridcolor\":\"white\",\"linecolor\":\"white\",\"showbackground\":true,\"ticks\":\"\",\"zerolinecolor\":\"white\",\"gridwidth\":2},\"yaxis\":{\"backgroundcolor\":\"#E5ECF6\",\"gridcolor\":\"white\",\"linecolor\":\"white\",\"showbackground\":true,\"ticks\":\"\",\"zerolinecolor\":\"white\",\"gridwidth\":2},\"zaxis\":{\"backgroundcolor\":\"#E5ECF6\",\"gridcolor\":\"white\",\"linecolor\":\"white\",\"showbackground\":true,\"ticks\":\"\",\"zerolinecolor\":\"white\",\"gridwidth\":2}},\"shapedefaults\":{\"line\":{\"color\":\"#2a3f5f\"}},\"annotationdefaults\":{\"arrowcolor\":\"#2a3f5f\",\"arrowhead\":0,\"arrowwidth\":1},\"geo\":{\"bgcolor\":\"white\",\"landcolor\":\"#E5ECF6\",\"subunitcolor\":\"white\",\"showland\":true,\"showlakes\":true,\"lakecolor\":\"white\"},\"title\":{\"x\":0.05},\"mapbox\":{\"style\":\"light\"}}},\"xaxis\":{\"anchor\":\"y\",\"domain\":[0.0,1.0],\"title\":{\"text\":\"Attack\",\"font\":{\"color\":\"black\",\"size\":17}}},\"yaxis\":{\"anchor\":\"x\",\"domain\":[0.0,1.0],\"title\":{\"text\":\"Defense\",\"font\":{\"color\":\"black\",\"size\":17}}},\"legend\":{\"tracegroupgap\":0,\"itemsizing\":\"constant\"},\"margin\":{\"t\":60},\"title\":{\"text\":\"Pokemon Species: Defense w.r.t to Attack\",\"font\":{\"family\":\"Sitka Small\",\"color\":\"Black\",\"size\":22}}},                        {\"responsive\": true}                    ).then(function(){\n",
       "                            \n",
       "var gd = document.getElementById('1ec9c8c9-76c2-496b-8e43-0723b12286a0');\n",
       "var x = new MutationObserver(function (mutations, observer) {{\n",
       "        var display = window.getComputedStyle(gd).display;\n",
       "        if (!display || display === 'none') {{\n",
       "            console.log([gd, 'removed!']);\n",
       "            Plotly.purge(gd);\n",
       "            observer.disconnect();\n",
       "        }}\n",
       "}});\n",
       "\n",
       "// Listen for the removal of the full notebook cells\n",
       "var notebookContainer = gd.closest('#notebook-container');\n",
       "if (notebookContainer) {{\n",
       "    x.observe(notebookContainer, {childList: true});\n",
       "}}\n",
       "\n",
       "// Listen for the clearing of the current output cell\n",
       "var outputEl = gd.closest('.output');\n",
       "if (outputEl) {{\n",
       "    x.observe(outputEl, {childList: true});\n",
       "}}\n",
       "\n",
       "                        })                };                });            </script>        </div>"
      ]
     },
     "metadata": {},
     "output_type": "display_data"
    }
   ],
   "source": [
    "# plot the scatter plot func\n",
    "def scatter(df):\n",
    "    fig = px.scatter(df, x=\"Attack\", y=\"Defense\",\n",
    "                   size='Total', hover_data=['Names','Type1'])\n",
    "    \n",
    "    # update the layout\n",
    "    fig.update_layout(title='Pokemon Species: Defense w.r.t to Attack',\n",
    "                  xaxis_title='Attack',\n",
    "                  yaxis_title='Defense',\n",
    "                  title_font_family=\"Sitka Small\",\n",
    "                  title_font_color=\"Black\",\n",
    "                  title_font_size=22,\n",
    "                  xaxis_title_font_color='black',\n",
    "                  xaxis_title_font_size=17,\n",
    "                  yaxis_title_font_color='black',\n",
    "                  yaxis_title_font_size=17\n",
    "                 )\n",
    "    fig.show()\n",
    "scatter(df)"
   ]
  },
  {
   "cell_type": "markdown",
   "id": "465bd3b5",
   "metadata": {
    "papermill": {
     "duration": 0.00907,
     "end_time": "2023-07-12T14:07:14.363052",
     "exception": false,
     "start_time": "2023-07-12T14:07:14.353982",
     "status": "completed"
    },
    "tags": []
   },
   "source": [
    "### 4. Top 10 Pokemons in each metric of their skills"
   ]
  },
  {
   "cell_type": "code",
   "execution_count": 10,
   "id": "6f2b92dd",
   "metadata": {
    "execution": {
     "iopub.execute_input": "2023-07-12T14:07:14.402680Z",
     "iopub.status.busy": "2023-07-12T14:07:14.400459Z",
     "iopub.status.idle": "2023-07-12T14:07:14.505209Z",
     "shell.execute_reply": "2023-07-12T14:07:14.503912Z"
    },
    "papermill": {
     "duration": 0.118171,
     "end_time": "2023-07-12T14:07:14.508217",
     "exception": false,
     "start_time": "2023-07-12T14:07:14.390046",
     "status": "completed"
    },
    "tags": []
   },
   "outputs": [
    {
     "data": {
      "text/html": [
       "<div>                            <div id=\"c9b88424-a54a-4549-9c55-6e650ae61486\" class=\"plotly-graph-div\" style=\"height:500px; width:100%;\"></div>            <script type=\"text/javascript\">                require([\"plotly\"], function(Plotly) {                    window.PLOTLYENV=window.PLOTLYENV || {};                                    if (document.getElementById(\"c9b88424-a54a-4549-9c55-6e650ae61486\")) {                    Plotly.newPlot(                        \"c9b88424-a54a-4549-9c55-6e650ae61486\",                        [{\"alignmentgroup\":\"True\",\"customdata\":[[\"Electric\",580],[\"Psychic\",600],[\"Bug\",456],[\"Bug\",570],[\"Psychic\",600],[\"Electric\",490],[\"Psychic\",600],[\"Psychic\",680],[\"Psychic\",600],[\"Rock\",615]],\"hovertemplate\":\"Names=%{x}<br>Speed=%{marker.color}<br>Type1=%{customdata[0]}<br>Total=%{customdata[1]}<extra></extra>\",\"legendgroup\":\"\",\"marker\":{\"color\":[200,180,160,151,150,150,150,150,150,150],\"coloraxis\":\"coloraxis\",\"pattern\":{\"shape\":\"\"}},\"name\":\"\",\"offsetgroup\":\"\",\"orientation\":\"v\",\"showlegend\":false,\"textposition\":\"auto\",\"x\":[\"Regieleki\",\"Deoxys Speed Forme\",\"Ninjask\",\"Pheromosa\",\"Deoxys Normal Forme\",\"Electrode Hisuian Electrode\",\"Deoxys Attack Forme\",\"Calyrex Shadow Rider\",\"Alakazam Mega Alakazam\",\"Aerodactyl Mega Aerodactyl\"],\"xaxis\":\"x\",\"y\":[200,180,160,151,150,150,150,150,150,150],\"yaxis\":\"y\",\"type\":\"bar\"}],                        {\"template\":{\"data\":{\"histogram2dcontour\":[{\"type\":\"histogram2dcontour\",\"colorbar\":{\"outlinewidth\":0,\"ticks\":\"\"},\"colorscale\":[[0.0,\"#0d0887\"],[0.1111111111111111,\"#46039f\"],[0.2222222222222222,\"#7201a8\"],[0.3333333333333333,\"#9c179e\"],[0.4444444444444444,\"#bd3786\"],[0.5555555555555556,\"#d8576b\"],[0.6666666666666666,\"#ed7953\"],[0.7777777777777778,\"#fb9f3a\"],[0.8888888888888888,\"#fdca26\"],[1.0,\"#f0f921\"]]}],\"choropleth\":[{\"type\":\"choropleth\",\"colorbar\":{\"outlinewidth\":0,\"ticks\":\"\"}}],\"histogram2d\":[{\"type\":\"histogram2d\",\"colorbar\":{\"outlinewidth\":0,\"ticks\":\"\"},\"colorscale\":[[0.0,\"#0d0887\"],[0.1111111111111111,\"#46039f\"],[0.2222222222222222,\"#7201a8\"],[0.3333333333333333,\"#9c179e\"],[0.4444444444444444,\"#bd3786\"],[0.5555555555555556,\"#d8576b\"],[0.6666666666666666,\"#ed7953\"],[0.7777777777777778,\"#fb9f3a\"],[0.8888888888888888,\"#fdca26\"],[1.0,\"#f0f921\"]]}],\"heatmap\":[{\"type\":\"heatmap\",\"colorbar\":{\"outlinewidth\":0,\"ticks\":\"\"},\"colorscale\":[[0.0,\"#0d0887\"],[0.1111111111111111,\"#46039f\"],[0.2222222222222222,\"#7201a8\"],[0.3333333333333333,\"#9c179e\"],[0.4444444444444444,\"#bd3786\"],[0.5555555555555556,\"#d8576b\"],[0.6666666666666666,\"#ed7953\"],[0.7777777777777778,\"#fb9f3a\"],[0.8888888888888888,\"#fdca26\"],[1.0,\"#f0f921\"]]}],\"heatmapgl\":[{\"type\":\"heatmapgl\",\"colorbar\":{\"outlinewidth\":0,\"ticks\":\"\"},\"colorscale\":[[0.0,\"#0d0887\"],[0.1111111111111111,\"#46039f\"],[0.2222222222222222,\"#7201a8\"],[0.3333333333333333,\"#9c179e\"],[0.4444444444444444,\"#bd3786\"],[0.5555555555555556,\"#d8576b\"],[0.6666666666666666,\"#ed7953\"],[0.7777777777777778,\"#fb9f3a\"],[0.8888888888888888,\"#fdca26\"],[1.0,\"#f0f921\"]]}],\"contourcarpet\":[{\"type\":\"contourcarpet\",\"colorbar\":{\"outlinewidth\":0,\"ticks\":\"\"}}],\"contour\":[{\"type\":\"contour\",\"colorbar\":{\"outlinewidth\":0,\"ticks\":\"\"},\"colorscale\":[[0.0,\"#0d0887\"],[0.1111111111111111,\"#46039f\"],[0.2222222222222222,\"#7201a8\"],[0.3333333333333333,\"#9c179e\"],[0.4444444444444444,\"#bd3786\"],[0.5555555555555556,\"#d8576b\"],[0.6666666666666666,\"#ed7953\"],[0.7777777777777778,\"#fb9f3a\"],[0.8888888888888888,\"#fdca26\"],[1.0,\"#f0f921\"]]}],\"surface\":[{\"type\":\"surface\",\"colorbar\":{\"outlinewidth\":0,\"ticks\":\"\"},\"colorscale\":[[0.0,\"#0d0887\"],[0.1111111111111111,\"#46039f\"],[0.2222222222222222,\"#7201a8\"],[0.3333333333333333,\"#9c179e\"],[0.4444444444444444,\"#bd3786\"],[0.5555555555555556,\"#d8576b\"],[0.6666666666666666,\"#ed7953\"],[0.7777777777777778,\"#fb9f3a\"],[0.8888888888888888,\"#fdca26\"],[1.0,\"#f0f921\"]]}],\"mesh3d\":[{\"type\":\"mesh3d\",\"colorbar\":{\"outlinewidth\":0,\"ticks\":\"\"}}],\"scatter\":[{\"fillpattern\":{\"fillmode\":\"overlay\",\"size\":10,\"solidity\":0.2},\"type\":\"scatter\"}],\"parcoords\":[{\"type\":\"parcoords\",\"line\":{\"colorbar\":{\"outlinewidth\":0,\"ticks\":\"\"}}}],\"scatterpolargl\":[{\"type\":\"scatterpolargl\",\"marker\":{\"colorbar\":{\"outlinewidth\":0,\"ticks\":\"\"}}}],\"bar\":[{\"error_x\":{\"color\":\"#2a3f5f\"},\"error_y\":{\"color\":\"#2a3f5f\"},\"marker\":{\"line\":{\"color\":\"#E5ECF6\",\"width\":0.5},\"pattern\":{\"fillmode\":\"overlay\",\"size\":10,\"solidity\":0.2}},\"type\":\"bar\"}],\"scattergeo\":[{\"type\":\"scattergeo\",\"marker\":{\"colorbar\":{\"outlinewidth\":0,\"ticks\":\"\"}}}],\"scatterpolar\":[{\"type\":\"scatterpolar\",\"marker\":{\"colorbar\":{\"outlinewidth\":0,\"ticks\":\"\"}}}],\"histogram\":[{\"marker\":{\"pattern\":{\"fillmode\":\"overlay\",\"size\":10,\"solidity\":0.2}},\"type\":\"histogram\"}],\"scattergl\":[{\"type\":\"scattergl\",\"marker\":{\"colorbar\":{\"outlinewidth\":0,\"ticks\":\"\"}}}],\"scatter3d\":[{\"type\":\"scatter3d\",\"line\":{\"colorbar\":{\"outlinewidth\":0,\"ticks\":\"\"}},\"marker\":{\"colorbar\":{\"outlinewidth\":0,\"ticks\":\"\"}}}],\"scattermapbox\":[{\"type\":\"scattermapbox\",\"marker\":{\"colorbar\":{\"outlinewidth\":0,\"ticks\":\"\"}}}],\"scatterternary\":[{\"type\":\"scatterternary\",\"marker\":{\"colorbar\":{\"outlinewidth\":0,\"ticks\":\"\"}}}],\"scattercarpet\":[{\"type\":\"scattercarpet\",\"marker\":{\"colorbar\":{\"outlinewidth\":0,\"ticks\":\"\"}}}],\"carpet\":[{\"aaxis\":{\"endlinecolor\":\"#2a3f5f\",\"gridcolor\":\"white\",\"linecolor\":\"white\",\"minorgridcolor\":\"white\",\"startlinecolor\":\"#2a3f5f\"},\"baxis\":{\"endlinecolor\":\"#2a3f5f\",\"gridcolor\":\"white\",\"linecolor\":\"white\",\"minorgridcolor\":\"white\",\"startlinecolor\":\"#2a3f5f\"},\"type\":\"carpet\"}],\"table\":[{\"cells\":{\"fill\":{\"color\":\"#EBF0F8\"},\"line\":{\"color\":\"white\"}},\"header\":{\"fill\":{\"color\":\"#C8D4E3\"},\"line\":{\"color\":\"white\"}},\"type\":\"table\"}],\"barpolar\":[{\"marker\":{\"line\":{\"color\":\"#E5ECF6\",\"width\":0.5},\"pattern\":{\"fillmode\":\"overlay\",\"size\":10,\"solidity\":0.2}},\"type\":\"barpolar\"}],\"pie\":[{\"automargin\":true,\"type\":\"pie\"}]},\"layout\":{\"autotypenumbers\":\"strict\",\"colorway\":[\"#636efa\",\"#EF553B\",\"#00cc96\",\"#ab63fa\",\"#FFA15A\",\"#19d3f3\",\"#FF6692\",\"#B6E880\",\"#FF97FF\",\"#FECB52\"],\"font\":{\"color\":\"#2a3f5f\"},\"hovermode\":\"closest\",\"hoverlabel\":{\"align\":\"left\"},\"paper_bgcolor\":\"white\",\"plot_bgcolor\":\"#E5ECF6\",\"polar\":{\"bgcolor\":\"#E5ECF6\",\"angularaxis\":{\"gridcolor\":\"white\",\"linecolor\":\"white\",\"ticks\":\"\"},\"radialaxis\":{\"gridcolor\":\"white\",\"linecolor\":\"white\",\"ticks\":\"\"}},\"ternary\":{\"bgcolor\":\"#E5ECF6\",\"aaxis\":{\"gridcolor\":\"white\",\"linecolor\":\"white\",\"ticks\":\"\"},\"baxis\":{\"gridcolor\":\"white\",\"linecolor\":\"white\",\"ticks\":\"\"},\"caxis\":{\"gridcolor\":\"white\",\"linecolor\":\"white\",\"ticks\":\"\"}},\"coloraxis\":{\"colorbar\":{\"outlinewidth\":0,\"ticks\":\"\"}},\"colorscale\":{\"sequential\":[[0.0,\"#0d0887\"],[0.1111111111111111,\"#46039f\"],[0.2222222222222222,\"#7201a8\"],[0.3333333333333333,\"#9c179e\"],[0.4444444444444444,\"#bd3786\"],[0.5555555555555556,\"#d8576b\"],[0.6666666666666666,\"#ed7953\"],[0.7777777777777778,\"#fb9f3a\"],[0.8888888888888888,\"#fdca26\"],[1.0,\"#f0f921\"]],\"sequentialminus\":[[0.0,\"#0d0887\"],[0.1111111111111111,\"#46039f\"],[0.2222222222222222,\"#7201a8\"],[0.3333333333333333,\"#9c179e\"],[0.4444444444444444,\"#bd3786\"],[0.5555555555555556,\"#d8576b\"],[0.6666666666666666,\"#ed7953\"],[0.7777777777777778,\"#fb9f3a\"],[0.8888888888888888,\"#fdca26\"],[1.0,\"#f0f921\"]],\"diverging\":[[0,\"#8e0152\"],[0.1,\"#c51b7d\"],[0.2,\"#de77ae\"],[0.3,\"#f1b6da\"],[0.4,\"#fde0ef\"],[0.5,\"#f7f7f7\"],[0.6,\"#e6f5d0\"],[0.7,\"#b8e186\"],[0.8,\"#7fbc41\"],[0.9,\"#4d9221\"],[1,\"#276419\"]]},\"xaxis\":{\"gridcolor\":\"white\",\"linecolor\":\"white\",\"ticks\":\"\",\"title\":{\"standoff\":15},\"zerolinecolor\":\"white\",\"automargin\":true,\"zerolinewidth\":2},\"yaxis\":{\"gridcolor\":\"white\",\"linecolor\":\"white\",\"ticks\":\"\",\"title\":{\"standoff\":15},\"zerolinecolor\":\"white\",\"automargin\":true,\"zerolinewidth\":2},\"scene\":{\"xaxis\":{\"backgroundcolor\":\"#E5ECF6\",\"gridcolor\":\"white\",\"linecolor\":\"white\",\"showbackground\":true,\"ticks\":\"\",\"zerolinecolor\":\"white\",\"gridwidth\":2},\"yaxis\":{\"backgroundcolor\":\"#E5ECF6\",\"gridcolor\":\"white\",\"linecolor\":\"white\",\"showbackground\":true,\"ticks\":\"\",\"zerolinecolor\":\"white\",\"gridwidth\":2},\"zaxis\":{\"backgroundcolor\":\"#E5ECF6\",\"gridcolor\":\"white\",\"linecolor\":\"white\",\"showbackground\":true,\"ticks\":\"\",\"zerolinecolor\":\"white\",\"gridwidth\":2}},\"shapedefaults\":{\"line\":{\"color\":\"#2a3f5f\"}},\"annotationdefaults\":{\"arrowcolor\":\"#2a3f5f\",\"arrowhead\":0,\"arrowwidth\":1},\"geo\":{\"bgcolor\":\"white\",\"landcolor\":\"#E5ECF6\",\"subunitcolor\":\"white\",\"showland\":true,\"showlakes\":true,\"lakecolor\":\"white\"},\"title\":{\"x\":0.05},\"mapbox\":{\"style\":\"light\"}}},\"xaxis\":{\"anchor\":\"y\",\"domain\":[0.0,1.0],\"title\":{\"text\":\"Name of Pokemons\",\"font\":{\"color\":\"black\",\"size\":17}}},\"yaxis\":{\"anchor\":\"x\",\"domain\":[0.0,1.0],\"title\":{\"text\":\"Speed\",\"font\":{\"color\":\"black\",\"size\":17}}},\"coloraxis\":{\"colorbar\":{\"title\":{\"text\":\"Speed\"}},\"colorscale\":[[0.0,\"#0d0887\"],[0.1111111111111111,\"#46039f\"],[0.2222222222222222,\"#7201a8\"],[0.3333333333333333,\"#9c179e\"],[0.4444444444444444,\"#bd3786\"],[0.5555555555555556,\"#d8576b\"],[0.6666666666666666,\"#ed7953\"],[0.7777777777777778,\"#fb9f3a\"],[0.8888888888888888,\"#fdca26\"],[1.0,\"#f0f921\"]]},\"legend\":{\"tracegroupgap\":0},\"margin\":{\"t\":60},\"barmode\":\"relative\",\"height\":500,\"title\":{\"text\":\"Pokemon Species: Top 10 in Speed points\",\"font\":{\"family\":\"Sitka Small\",\"color\":\"Black\",\"size\":22}}},                        {\"responsive\": true}                    ).then(function(){\n",
       "                            \n",
       "var gd = document.getElementById('c9b88424-a54a-4549-9c55-6e650ae61486');\n",
       "var x = new MutationObserver(function (mutations, observer) {{\n",
       "        var display = window.getComputedStyle(gd).display;\n",
       "        if (!display || display === 'none') {{\n",
       "            console.log([gd, 'removed!']);\n",
       "            Plotly.purge(gd);\n",
       "            observer.disconnect();\n",
       "        }}\n",
       "}});\n",
       "\n",
       "// Listen for the removal of the full notebook cells\n",
       "var notebookContainer = gd.closest('#notebook-container');\n",
       "if (notebookContainer) {{\n",
       "    x.observe(notebookContainer, {childList: true});\n",
       "}}\n",
       "\n",
       "// Listen for the clearing of the current output cell\n",
       "var outputEl = gd.closest('.output');\n",
       "if (outputEl) {{\n",
       "    x.observe(outputEl, {childList: true});\n",
       "}}\n",
       "\n",
       "                        })                };                });            </script>        </div>"
      ]
     },
     "metadata": {},
     "output_type": "display_data"
    }
   ],
   "source": [
    "# function to plot top10 best pokemons in each skill attribute \n",
    "def top10(df, skill):\n",
    "    Top10 = df.sort_values(by=skill,ascending=False)[:10]\n",
    "    \n",
    "    # plot the bar chart\n",
    "    fig = px.bar(Top10, x='Names', y=skill,\n",
    "            hover_data=['Type1', 'Total'], color=skill,\n",
    "            labels={'legend':skill}, height=500)\n",
    "    # update the layout\n",
    "    fig.update_layout(title=f'Pokemon Species: Top 10 in {skill} points',\n",
    "                xaxis_title='Name of Pokemons',\n",
    "                title_font_family=\"Sitka Small\",\n",
    "                title_font_color=\"Black\",\n",
    "                title_font_size=22,\n",
    "                xaxis_title_font_color='black',\n",
    "                xaxis_title_font_size=17,\n",
    "                yaxis_title_font_color='black',\n",
    "                yaxis_title_font_size=17\n",
    "                )\n",
    "    fig.show()\n",
    "    \n",
    "top10(df, 'Speed')"
   ]
  }
 ],
 "metadata": {
  "kernelspec": {
   "display_name": "Python 3",
   "language": "python",
   "name": "python3"
  },
  "language_info": {
   "codemirror_mode": {
    "name": "ipython",
    "version": 3
   },
   "file_extension": ".py",
   "mimetype": "text/x-python",
   "name": "python",
   "nbconvert_exporter": "python",
   "pygments_lexer": "ipython3",
   "version": "3.9.7"
  },
  "papermill": {
   "default_parameters": {},
   "duration": 20.27709,
   "end_time": "2023-07-12T14:07:15.661537",
   "environment_variables": {},
   "exception": null,
   "input_path": "__notebook__.ipynb",
   "output_path": "__notebook__.ipynb",
   "parameters": {},
   "start_time": "2023-07-12T14:06:55.384447",
   "version": "2.4.0"
  }
 },
 "nbformat": 4,
 "nbformat_minor": 5
}
